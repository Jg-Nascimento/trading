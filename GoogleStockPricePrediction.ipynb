{
  "nbformat": 4,
  "nbformat_minor": 0,
  "metadata": {
    "colab": {
      "name": "GoogleStockPricePrediction",
      "provenance": [],
      "collapsed_sections": [],
      "include_colab_link": true
    },
    "kernelspec": {
      "name": "python3",
      "display_name": "Python 3"
    },
    "accelerator": "GPU"
  },
  "cells": [
    {
      "cell_type": "markdown",
      "metadata": {
        "id": "view-in-github",
        "colab_type": "text"
      },
      "source": [
        "<a href=\"https://colab.research.google.com/github/Jg-Nascimento/trading/blob/master/GoogleStockPricePrediction.ipynb\" target=\"_parent\"><img src=\"https://colab.research.google.com/assets/colab-badge.svg\" alt=\"Open In Colab\"/></a>"
      ]
    },
    {
      "cell_type": "markdown",
      "metadata": {
        "id": "C4jzwPiNB1CJ"
      },
      "source": [
        "[Link de Apoio](https://www.agatetepe.com.br/predicao-do-mercado-de-acoes-pela-rede-neural-recorrente-no-modelo-lstm/)"
      ]
    },
    {
      "cell_type": "markdown",
      "metadata": {
        "id": "nkBMauvzUsEQ"
      },
      "source": [
        "---\n",
        "# **Prevendo de Preço de Ações com RNN e LSTM**\n",
        "---"
      ]
    },
    {
      "cell_type": "markdown",
      "metadata": {
        "id": "6x46ZfS5Ug7x"
      },
      "source": [
        "Instalação e Configuração"
      ]
    },
    {
      "cell_type": "code",
      "metadata": {
        "id": "cLaRxK94UR_u"
      },
      "source": [
        "#!pip install tensorflow-gpu"
      ],
      "execution_count": null,
      "outputs": []
    },
    {
      "cell_type": "code",
      "metadata": {
        "id": "8DEEPnziVC5F"
      },
      "source": [
        "import tensorflow as tf\n",
        "import numpy as np\n",
        "import pandas_datareader as web\n",
        "import pandas as pd \n",
        "import matplotlib.pyplot as plt"
      ],
      "execution_count": null,
      "outputs": []
    },
    {
      "cell_type": "markdown",
      "metadata": {
        "id": "3e6cJFgNVjNK"
      },
      "source": [
        "Processando os dados"
      ]
    },
    {
      "cell_type": "code",
      "metadata": {
        "id": "b8xkZzoSVC0Q",
        "colab": {
          "base_uri": "https://localhost:8080/",
          "height": 35
        },
        "outputId": "cc248e13-1112-40b2-890f-706c923d8982"
      },
      "source": [
        "'''#importando o dataset\n",
        "from google.colab import files\n",
        "upload = files.upload()'''"
      ],
      "execution_count": null,
      "outputs": [
        {
          "output_type": "execute_result",
          "data": {
            "application/vnd.google.colaboratory.intrinsic+json": {
              "type": "string"
            },
            "text/plain": [
              "'#importando o dataset\\nfrom google.colab import files\\nupload = files.upload()'"
            ]
          },
          "metadata": {
            "tags": []
          },
          "execution_count": 3
        }
      ]
    },
    {
      "cell_type": "code",
      "metadata": {
        "id": "HEWpQWO9VCwP",
        "colab": {
          "base_uri": "https://localhost:8080/",
          "height": 467
        },
        "outputId": "c07a92c0-3f33-43d9-dfc8-4b739f7c93e2"
      },
      "source": [
        "#training_data = pd.read_excel('estoque.xlsx')\n",
        "\n",
        "#Get the stock quote \n",
        "ativo = input(\"Ativo para análise: \")\n",
        "training_data = web.DataReader(ativo, data_source='yahoo', \n",
        "                    start='2012-01-01', end='2020-11-28') \n",
        "#Show the data \n",
        "training_data"
      ],
      "execution_count": null,
      "outputs": [
        {
          "output_type": "stream",
          "text": [
            "Ativo para análise: ^GSPC\n"
          ],
          "name": "stdout"
        },
        {
          "output_type": "execute_result",
          "data": {
            "text/html": [
              "<div>\n",
              "<style scoped>\n",
              "    .dataframe tbody tr th:only-of-type {\n",
              "        vertical-align: middle;\n",
              "    }\n",
              "\n",
              "    .dataframe tbody tr th {\n",
              "        vertical-align: top;\n",
              "    }\n",
              "\n",
              "    .dataframe thead th {\n",
              "        text-align: right;\n",
              "    }\n",
              "</style>\n",
              "<table border=\"1\" class=\"dataframe\">\n",
              "  <thead>\n",
              "    <tr style=\"text-align: right;\">\n",
              "      <th></th>\n",
              "      <th>High</th>\n",
              "      <th>Low</th>\n",
              "      <th>Open</th>\n",
              "      <th>Close</th>\n",
              "      <th>Volume</th>\n",
              "      <th>Adj Close</th>\n",
              "    </tr>\n",
              "    <tr>\n",
              "      <th>Date</th>\n",
              "      <th></th>\n",
              "      <th></th>\n",
              "      <th></th>\n",
              "      <th></th>\n",
              "      <th></th>\n",
              "      <th></th>\n",
              "    </tr>\n",
              "  </thead>\n",
              "  <tbody>\n",
              "    <tr>\n",
              "      <th>2012-01-03</th>\n",
              "      <td>1284.619995</td>\n",
              "      <td>1258.859985</td>\n",
              "      <td>1258.859985</td>\n",
              "      <td>1277.060059</td>\n",
              "      <td>3943710000</td>\n",
              "      <td>1277.060059</td>\n",
              "    </tr>\n",
              "    <tr>\n",
              "      <th>2012-01-04</th>\n",
              "      <td>1278.729980</td>\n",
              "      <td>1268.099976</td>\n",
              "      <td>1277.030029</td>\n",
              "      <td>1277.300049</td>\n",
              "      <td>3592580000</td>\n",
              "      <td>1277.300049</td>\n",
              "    </tr>\n",
              "    <tr>\n",
              "      <th>2012-01-05</th>\n",
              "      <td>1283.050049</td>\n",
              "      <td>1265.260010</td>\n",
              "      <td>1277.300049</td>\n",
              "      <td>1281.060059</td>\n",
              "      <td>4315950000</td>\n",
              "      <td>1281.060059</td>\n",
              "    </tr>\n",
              "    <tr>\n",
              "      <th>2012-01-06</th>\n",
              "      <td>1281.839966</td>\n",
              "      <td>1273.339966</td>\n",
              "      <td>1280.930054</td>\n",
              "      <td>1277.810059</td>\n",
              "      <td>3656830000</td>\n",
              "      <td>1277.810059</td>\n",
              "    </tr>\n",
              "    <tr>\n",
              "      <th>2012-01-09</th>\n",
              "      <td>1281.989990</td>\n",
              "      <td>1274.550049</td>\n",
              "      <td>1277.829956</td>\n",
              "      <td>1280.699951</td>\n",
              "      <td>3371600000</td>\n",
              "      <td>1280.699951</td>\n",
              "    </tr>\n",
              "    <tr>\n",
              "      <th>...</th>\n",
              "      <td>...</td>\n",
              "      <td>...</td>\n",
              "      <td>...</td>\n",
              "      <td>...</td>\n",
              "      <td>...</td>\n",
              "      <td>...</td>\n",
              "    </tr>\n",
              "    <tr>\n",
              "      <th>2020-11-20</th>\n",
              "      <td>3581.229980</td>\n",
              "      <td>3556.850098</td>\n",
              "      <td>3579.310059</td>\n",
              "      <td>3557.540039</td>\n",
              "      <td>4218970000</td>\n",
              "      <td>3557.540039</td>\n",
              "    </tr>\n",
              "    <tr>\n",
              "      <th>2020-11-23</th>\n",
              "      <td>3589.810059</td>\n",
              "      <td>3552.770020</td>\n",
              "      <td>3566.820068</td>\n",
              "      <td>3577.590088</td>\n",
              "      <td>5036290000</td>\n",
              "      <td>3577.590088</td>\n",
              "    </tr>\n",
              "    <tr>\n",
              "      <th>2020-11-24</th>\n",
              "      <td>3642.310059</td>\n",
              "      <td>3594.520020</td>\n",
              "      <td>3594.520020</td>\n",
              "      <td>3635.409912</td>\n",
              "      <td>6267570000</td>\n",
              "      <td>3635.409912</td>\n",
              "    </tr>\n",
              "    <tr>\n",
              "      <th>2020-11-25</th>\n",
              "      <td>3635.500000</td>\n",
              "      <td>3617.760010</td>\n",
              "      <td>3635.500000</td>\n",
              "      <td>3629.649902</td>\n",
              "      <td>4902560000</td>\n",
              "      <td>3629.649902</td>\n",
              "    </tr>\n",
              "    <tr>\n",
              "      <th>2020-11-27</th>\n",
              "      <td>3644.310059</td>\n",
              "      <td>3629.330078</td>\n",
              "      <td>3638.550049</td>\n",
              "      <td>3638.350098</td>\n",
              "      <td>2778450000</td>\n",
              "      <td>3638.350098</td>\n",
              "    </tr>\n",
              "  </tbody>\n",
              "</table>\n",
              "<p>2242 rows × 6 columns</p>\n",
              "</div>"
            ],
            "text/plain": [
              "                   High          Low  ...      Volume    Adj Close\n",
              "Date                                  ...                         \n",
              "2012-01-03  1284.619995  1258.859985  ...  3943710000  1277.060059\n",
              "2012-01-04  1278.729980  1268.099976  ...  3592580000  1277.300049\n",
              "2012-01-05  1283.050049  1265.260010  ...  4315950000  1281.060059\n",
              "2012-01-06  1281.839966  1273.339966  ...  3656830000  1277.810059\n",
              "2012-01-09  1281.989990  1274.550049  ...  3371600000  1280.699951\n",
              "...                 ...          ...  ...         ...          ...\n",
              "2020-11-20  3581.229980  3556.850098  ...  4218970000  3557.540039\n",
              "2020-11-23  3589.810059  3552.770020  ...  5036290000  3577.590088\n",
              "2020-11-24  3642.310059  3594.520020  ...  6267570000  3635.409912\n",
              "2020-11-25  3635.500000  3617.760010  ...  4902560000  3629.649902\n",
              "2020-11-27  3644.310059  3629.330078  ...  2778450000  3638.350098\n",
              "\n",
              "[2242 rows x 6 columns]"
            ]
          },
          "metadata": {
            "tags": []
          },
          "execution_count": 3
        }
      ]
    },
    {
      "cell_type": "code",
      "metadata": {
        "id": "N8K-HYBXVCsZ",
        "colab": {
          "base_uri": "https://localhost:8080/",
          "height": 235
        },
        "outputId": "66fb3534-56ad-4e99-95fe-b95a28cfde40"
      },
      "source": [
        "training_data.head()\n"
      ],
      "execution_count": null,
      "outputs": [
        {
          "output_type": "execute_result",
          "data": {
            "text/html": [
              "<div>\n",
              "<style scoped>\n",
              "    .dataframe tbody tr th:only-of-type {\n",
              "        vertical-align: middle;\n",
              "    }\n",
              "\n",
              "    .dataframe tbody tr th {\n",
              "        vertical-align: top;\n",
              "    }\n",
              "\n",
              "    .dataframe thead th {\n",
              "        text-align: right;\n",
              "    }\n",
              "</style>\n",
              "<table border=\"1\" class=\"dataframe\">\n",
              "  <thead>\n",
              "    <tr style=\"text-align: right;\">\n",
              "      <th></th>\n",
              "      <th>High</th>\n",
              "      <th>Low</th>\n",
              "      <th>Open</th>\n",
              "      <th>Close</th>\n",
              "      <th>Volume</th>\n",
              "      <th>Adj Close</th>\n",
              "    </tr>\n",
              "    <tr>\n",
              "      <th>Date</th>\n",
              "      <th></th>\n",
              "      <th></th>\n",
              "      <th></th>\n",
              "      <th></th>\n",
              "      <th></th>\n",
              "      <th></th>\n",
              "    </tr>\n",
              "  </thead>\n",
              "  <tbody>\n",
              "    <tr>\n",
              "      <th>2012-01-03</th>\n",
              "      <td>1284.619995</td>\n",
              "      <td>1258.859985</td>\n",
              "      <td>1258.859985</td>\n",
              "      <td>1277.060059</td>\n",
              "      <td>3943710000</td>\n",
              "      <td>1277.060059</td>\n",
              "    </tr>\n",
              "    <tr>\n",
              "      <th>2012-01-04</th>\n",
              "      <td>1278.729980</td>\n",
              "      <td>1268.099976</td>\n",
              "      <td>1277.030029</td>\n",
              "      <td>1277.300049</td>\n",
              "      <td>3592580000</td>\n",
              "      <td>1277.300049</td>\n",
              "    </tr>\n",
              "    <tr>\n",
              "      <th>2012-01-05</th>\n",
              "      <td>1283.050049</td>\n",
              "      <td>1265.260010</td>\n",
              "      <td>1277.300049</td>\n",
              "      <td>1281.060059</td>\n",
              "      <td>4315950000</td>\n",
              "      <td>1281.060059</td>\n",
              "    </tr>\n",
              "    <tr>\n",
              "      <th>2012-01-06</th>\n",
              "      <td>1281.839966</td>\n",
              "      <td>1273.339966</td>\n",
              "      <td>1280.930054</td>\n",
              "      <td>1277.810059</td>\n",
              "      <td>3656830000</td>\n",
              "      <td>1277.810059</td>\n",
              "    </tr>\n",
              "    <tr>\n",
              "      <th>2012-01-09</th>\n",
              "      <td>1281.989990</td>\n",
              "      <td>1274.550049</td>\n",
              "      <td>1277.829956</td>\n",
              "      <td>1280.699951</td>\n",
              "      <td>3371600000</td>\n",
              "      <td>1280.699951</td>\n",
              "    </tr>\n",
              "  </tbody>\n",
              "</table>\n",
              "</div>"
            ],
            "text/plain": [
              "                   High          Low  ...      Volume    Adj Close\n",
              "Date                                  ...                         \n",
              "2012-01-03  1284.619995  1258.859985  ...  3943710000  1277.060059\n",
              "2012-01-04  1278.729980  1268.099976  ...  3592580000  1277.300049\n",
              "2012-01-05  1283.050049  1265.260010  ...  4315950000  1281.060059\n",
              "2012-01-06  1281.839966  1273.339966  ...  3656830000  1277.810059\n",
              "2012-01-09  1281.989990  1274.550049  ...  3371600000  1280.699951\n",
              "\n",
              "[5 rows x 6 columns]"
            ]
          },
          "metadata": {
            "tags": []
          },
          "execution_count": 4
        }
      ]
    },
    {
      "cell_type": "code",
      "metadata": {
        "id": "cQizI0xCVCnT",
        "colab": {
          "base_uri": "https://localhost:8080/",
          "height": 235
        },
        "outputId": "ae20d953-9ae4-448e-f99a-f1dc2a246c62"
      },
      "source": [
        "training_data.tail()"
      ],
      "execution_count": null,
      "outputs": [
        {
          "output_type": "execute_result",
          "data": {
            "text/html": [
              "<div>\n",
              "<style scoped>\n",
              "    .dataframe tbody tr th:only-of-type {\n",
              "        vertical-align: middle;\n",
              "    }\n",
              "\n",
              "    .dataframe tbody tr th {\n",
              "        vertical-align: top;\n",
              "    }\n",
              "\n",
              "    .dataframe thead th {\n",
              "        text-align: right;\n",
              "    }\n",
              "</style>\n",
              "<table border=\"1\" class=\"dataframe\">\n",
              "  <thead>\n",
              "    <tr style=\"text-align: right;\">\n",
              "      <th></th>\n",
              "      <th>High</th>\n",
              "      <th>Low</th>\n",
              "      <th>Open</th>\n",
              "      <th>Close</th>\n",
              "      <th>Volume</th>\n",
              "      <th>Adj Close</th>\n",
              "    </tr>\n",
              "    <tr>\n",
              "      <th>Date</th>\n",
              "      <th></th>\n",
              "      <th></th>\n",
              "      <th></th>\n",
              "      <th></th>\n",
              "      <th></th>\n",
              "      <th></th>\n",
              "    </tr>\n",
              "  </thead>\n",
              "  <tbody>\n",
              "    <tr>\n",
              "      <th>2020-11-20</th>\n",
              "      <td>3581.229980</td>\n",
              "      <td>3556.850098</td>\n",
              "      <td>3579.310059</td>\n",
              "      <td>3557.540039</td>\n",
              "      <td>4218970000</td>\n",
              "      <td>3557.540039</td>\n",
              "    </tr>\n",
              "    <tr>\n",
              "      <th>2020-11-23</th>\n",
              "      <td>3589.810059</td>\n",
              "      <td>3552.770020</td>\n",
              "      <td>3566.820068</td>\n",
              "      <td>3577.590088</td>\n",
              "      <td>5036290000</td>\n",
              "      <td>3577.590088</td>\n",
              "    </tr>\n",
              "    <tr>\n",
              "      <th>2020-11-24</th>\n",
              "      <td>3642.310059</td>\n",
              "      <td>3594.520020</td>\n",
              "      <td>3594.520020</td>\n",
              "      <td>3635.409912</td>\n",
              "      <td>6267570000</td>\n",
              "      <td>3635.409912</td>\n",
              "    </tr>\n",
              "    <tr>\n",
              "      <th>2020-11-25</th>\n",
              "      <td>3635.500000</td>\n",
              "      <td>3617.760010</td>\n",
              "      <td>3635.500000</td>\n",
              "      <td>3629.649902</td>\n",
              "      <td>4902560000</td>\n",
              "      <td>3629.649902</td>\n",
              "    </tr>\n",
              "    <tr>\n",
              "      <th>2020-11-27</th>\n",
              "      <td>3644.310059</td>\n",
              "      <td>3629.330078</td>\n",
              "      <td>3638.550049</td>\n",
              "      <td>3638.350098</td>\n",
              "      <td>2778450000</td>\n",
              "      <td>3638.350098</td>\n",
              "    </tr>\n",
              "  </tbody>\n",
              "</table>\n",
              "</div>"
            ],
            "text/plain": [
              "                   High          Low  ...      Volume    Adj Close\n",
              "Date                                  ...                         \n",
              "2020-11-20  3581.229980  3556.850098  ...  4218970000  3557.540039\n",
              "2020-11-23  3589.810059  3552.770020  ...  5036290000  3577.590088\n",
              "2020-11-24  3642.310059  3594.520020  ...  6267570000  3635.409912\n",
              "2020-11-25  3635.500000  3617.760010  ...  4902560000  3629.649902\n",
              "2020-11-27  3644.310059  3629.330078  ...  2778450000  3638.350098\n",
              "\n",
              "[5 rows x 6 columns]"
            ]
          },
          "metadata": {
            "tags": []
          },
          "execution_count": 5
        }
      ]
    },
    {
      "cell_type": "code",
      "metadata": {
        "id": "8bUHGRYQVChR",
        "colab": {
          "base_uri": "https://localhost:8080/"
        },
        "outputId": "49520439-10f4-48d2-8580-ad9e51d76af6"
      },
      "source": [
        "training_data.info()"
      ],
      "execution_count": null,
      "outputs": [
        {
          "output_type": "stream",
          "text": [
            "<class 'pandas.core.frame.DataFrame'>\n",
            "DatetimeIndex: 2242 entries, 2012-01-03 to 2020-11-27\n",
            "Data columns (total 6 columns):\n",
            " #   Column     Non-Null Count  Dtype  \n",
            "---  ------     --------------  -----  \n",
            " 0   High       2242 non-null   float64\n",
            " 1   Low        2242 non-null   float64\n",
            " 2   Open       2242 non-null   float64\n",
            " 3   Close      2242 non-null   float64\n",
            " 4   Volume     2242 non-null   int64  \n",
            " 5   Adj Close  2242 non-null   float64\n",
            "dtypes: float64(5), int64(1)\n",
            "memory usage: 122.6 KB\n"
          ],
          "name": "stdout"
        }
      ]
    },
    {
      "cell_type": "code",
      "metadata": {
        "id": "U2wvNnEgVCY7"
      },
      "source": [
        "training_set = training_data.iloc[:, 1:2].values"
      ],
      "execution_count": null,
      "outputs": []
    },
    {
      "cell_type": "code",
      "metadata": {
        "id": "c7gvpvuQVCT6",
        "colab": {
          "base_uri": "https://localhost:8080/"
        },
        "outputId": "b30c45de-3708-42bf-9ec2-5051b41ed06d"
      },
      "source": [
        "training_set.shape, training_data.shape"
      ],
      "execution_count": null,
      "outputs": [
        {
          "output_type": "execute_result",
          "data": {
            "text/plain": [
              "((2242, 1), (2242, 6))"
            ]
          },
          "metadata": {
            "tags": []
          },
          "execution_count": 8
        }
      ]
    },
    {
      "cell_type": "code",
      "metadata": {
        "id": "_EKVpXeQVCQL"
      },
      "source": [
        "from sklearn.preprocessing import MinMaxScaler\n",
        "sc = MinMaxScaler(feature_range=(0,1))\n",
        "training_set_scaled = sc.fit_transform(training_set)\n",
        "  "
      ],
      "execution_count": null,
      "outputs": []
    },
    {
      "cell_type": "code",
      "metadata": {
        "id": "IQAxuKYXVCLu",
        "colab": {
          "base_uri": "https://localhost:8080/"
        },
        "outputId": "b35b8717-95fa-4b46-98b6-17c37cb1c254"
      },
      "source": [
        "training_set_scaled"
      ],
      "execution_count": null,
      "outputs": [
        {
          "output_type": "execute_result",
          "data": {
            "text/plain": [
              "array([[0.        ],\n",
              "       [0.00389796],\n",
              "       [0.0026999 ],\n",
              "       ...,\n",
              "       [0.98531512],\n",
              "       [0.99511908],\n",
              "       [1.        ]])"
            ]
          },
          "metadata": {
            "tags": []
          },
          "execution_count": 10
        }
      ]
    },
    {
      "cell_type": "code",
      "metadata": {
        "id": "2_O4otIyZfJQ"
      },
      "source": [
        "#criar estrutura de dados com 60 timestamp e 1 output\n",
        "x_train = []\n",
        "y_train = []\n",
        "\n",
        "for i in range(60, 2242):\n",
        "  x_train.append(training_set_scaled[i-60:i, 0])\n",
        "  y_train.append(training_set_scaled[i, 0])\n",
        "\n",
        "#convertendo x_tain, y_train em array np\n",
        "x_train, y_train = np.array(x_train), np.array(y_train)"
      ],
      "execution_count": null,
      "outputs": []
    },
    {
      "cell_type": "code",
      "metadata": {
        "id": "YElPXYZ_Ze-e",
        "colab": {
          "base_uri": "https://localhost:8080/"
        },
        "outputId": "dca111d7-c3bb-4f79-9464-06501e94ef92"
      },
      "source": [
        "x_train"
      ],
      "execution_count": null,
      "outputs": [
        {
          "output_type": "execute_result",
          "data": {
            "text/plain": [
              "array([[0.        , 0.00389796, 0.0026999 , ..., 0.05832177, 0.06458211,\n",
              "        0.05835972],\n",
              "       [0.00389796, 0.0026999 , 0.00610848, ..., 0.06458211, 0.05835972,\n",
              "        0.05598049],\n",
              "       [0.0026999 , 0.00610848, 0.00661897, ..., 0.05835972, 0.05598049,\n",
              "        0.06013999],\n",
              "       ...,\n",
              "       [0.94259363, 0.94316318, 0.96030319, ..., 0.96393543, 0.96942379,\n",
              "        0.96770258],\n",
              "       [0.94316318, 0.96030319, 0.91481851, ..., 0.96942379, 0.96770258,\n",
              "        0.98531512],\n",
              "       [0.96030319, 0.91481851, 0.88200644, ..., 0.96770258, 0.98531512,\n",
              "        0.99511908]])"
            ]
          },
          "metadata": {
            "tags": []
          },
          "execution_count": 12
        }
      ]
    },
    {
      "cell_type": "code",
      "metadata": {
        "id": "p8D6UvCQZevS",
        "colab": {
          "base_uri": "https://localhost:8080/"
        },
        "outputId": "5ac53763-a049-4e05-ed6d-c7645de86e83"
      },
      "source": [
        "y_train"
      ],
      "execution_count": null,
      "outputs": [
        {
          "output_type": "execute_result",
          "data": {
            "text/plain": [
              "array([0.05598049, 0.06013999, 0.06142241, ..., 0.98531512, 0.99511908,\n",
              "       1.        ])"
            ]
          },
          "metadata": {
            "tags": []
          },
          "execution_count": 13
        }
      ]
    },
    {
      "cell_type": "code",
      "metadata": {
        "id": "ekHT1BIUZeZQ",
        "colab": {
          "base_uri": "https://localhost:8080/"
        },
        "outputId": "c2b12589-2f52-4e72-b8cb-f36772ac345c"
      },
      "source": [
        "x_train.shape"
      ],
      "execution_count": null,
      "outputs": [
        {
          "output_type": "execute_result",
          "data": {
            "text/plain": [
              "(2182, 60)"
            ]
          },
          "metadata": {
            "tags": []
          },
          "execution_count": 14
        }
      ]
    },
    {
      "cell_type": "code",
      "metadata": {
        "id": "ozfU89aydLjP"
      },
      "source": [
        "#reshaping dataset\n",
        "x_train = x_train.reshape(2182, 60, 1)"
      ],
      "execution_count": null,
      "outputs": []
    },
    {
      "cell_type": "markdown",
      "metadata": {
        "id": "qa158JKddv-A"
      },
      "source": [
        "Criando a LSTM"
      ]
    },
    {
      "cell_type": "code",
      "metadata": {
        "id": "Krd2AiHBdLW6"
      },
      "source": [
        "#definindo um objeto(inicializando RNN)\n",
        "model = tf.keras.models.Sequential()"
      ],
      "execution_count": null,
      "outputs": []
    },
    {
      "cell_type": "code",
      "metadata": {
        "id": "ZUzDj0eXdLEk",
        "colab": {
          "base_uri": "https://localhost:8080/"
        },
        "outputId": "4dad8020-a96d-423f-924b-bbd906e6fbb2"
      },
      "source": [
        "#primeiro LSTM layer\n",
        "model.add(tf.keras.layers.LSTM(units=60, \n",
        "                               activation='relu', return_sequences=True,\n",
        "                               input_shape=(60, 1)))\n",
        "model.add(tf.keras.layers.Dropout(0.2))\n",
        "\n",
        "#segundo LSTM layer\n",
        "model.add(tf.keras.layers.LSTM(units=80, \n",
        "                               activation='relu', return_sequences=True))\n",
        "model.add(tf.keras.layers.Dropout(0.2))\n",
        "\n",
        "#quarto LSTM layer\n",
        "model.add(tf.keras.layers.LSTM(units=120, \n",
        "                               activation='relu'))\n",
        "model.add(tf.keras.layers.Dropout(0.2))"
      ],
      "execution_count": null,
      "outputs": [
        {
          "output_type": "stream",
          "text": [
            "WARNING:tensorflow:Layer lstm will not use cuDNN kernel since it doesn't meet the cuDNN kernel criteria. It will use generic GPU kernel as fallback when running on GPU\n",
            "WARNING:tensorflow:Layer lstm_1 will not use cuDNN kernel since it doesn't meet the cuDNN kernel criteria. It will use generic GPU kernel as fallback when running on GPU\n",
            "WARNING:tensorflow:Layer lstm_2 will not use cuDNN kernel since it doesn't meet the cuDNN kernel criteria. It will use generic GPU kernel as fallback when running on GPU\n"
          ],
          "name": "stdout"
        }
      ]
    },
    {
      "cell_type": "code",
      "metadata": {
        "id": "zT0KzCdrdKzH"
      },
      "source": [
        "#saida\n",
        "model.add(tf.keras.layers.Dense(units=1))"
      ],
      "execution_count": null,
      "outputs": []
    },
    {
      "cell_type": "code",
      "metadata": {
        "id": "ABQM_-8UdKlC",
        "colab": {
          "base_uri": "https://localhost:8080/"
        },
        "outputId": "cc9128ee-ea6c-4da3-b5a1-b7295043f590"
      },
      "source": [
        "model.summary()"
      ],
      "execution_count": null,
      "outputs": [
        {
          "output_type": "stream",
          "text": [
            "Model: \"sequential\"\n",
            "_________________________________________________________________\n",
            "Layer (type)                 Output Shape              Param #   \n",
            "=================================================================\n",
            "lstm (LSTM)                  (None, 60, 60)            14880     \n",
            "_________________________________________________________________\n",
            "dropout (Dropout)            (None, 60, 60)            0         \n",
            "_________________________________________________________________\n",
            "lstm_1 (LSTM)                (None, 60, 80)            45120     \n",
            "_________________________________________________________________\n",
            "dropout_1 (Dropout)          (None, 60, 80)            0         \n",
            "_________________________________________________________________\n",
            "lstm_2 (LSTM)                (None, 120)               96480     \n",
            "_________________________________________________________________\n",
            "dropout_2 (Dropout)          (None, 120)               0         \n",
            "_________________________________________________________________\n",
            "dense (Dense)                (None, 1)                 121       \n",
            "=================================================================\n",
            "Total params: 156,601\n",
            "Trainable params: 156,601\n",
            "Non-trainable params: 0\n",
            "_________________________________________________________________\n"
          ],
          "name": "stdout"
        }
      ]
    },
    {
      "cell_type": "code",
      "metadata": {
        "id": "CGN3cKcddKTP"
      },
      "source": [
        "#compilando o modelo\n",
        "model.compile(optimizer='adam', loss='mean_squared_error')"
      ],
      "execution_count": null,
      "outputs": []
    },
    {
      "cell_type": "markdown",
      "metadata": {
        "id": "WMq9Yvhc4Cqz"
      },
      "source": [
        "Treinando o Modelo"
      ]
    },
    {
      "cell_type": "code",
      "metadata": {
        "id": "EzWS_js3dJ2j",
        "colab": {
          "base_uri": "https://localhost:8080/"
        },
        "outputId": "8e60e83b-4c36-4b82-dcf0-dc10662274c5"
      },
      "source": [
        "#epochs será o tempo (passada) que o modelo terá de treino\n",
        "model.fit(x_train, y_train, batch_size=32, \n",
        "          epochs=2) "
      ],
      "execution_count": null,
      "outputs": [
        {
          "output_type": "stream",
          "text": [
            "Epoch 1/2\n",
            "69/69 [==============================] - 18s 261ms/step - loss: 0.0025\n",
            "Epoch 2/2\n",
            "69/69 [==============================] - 18s 261ms/step - loss: 0.0024\n"
          ],
          "name": "stdout"
        },
        {
          "output_type": "execute_result",
          "data": {
            "text/plain": [
              "<tensorflow.python.keras.callbacks.History at 0x7f7f2ae07470>"
            ]
          },
          "metadata": {
            "tags": []
          },
          "execution_count": 22
        }
      ]
    },
    {
      "cell_type": "markdown",
      "metadata": {
        "id": "Va3h2rBa5a4i"
      },
      "source": [
        "Fazendo as Predições"
      ]
    },
    {
      "cell_type": "code",
      "metadata": {
        "id": "kQXN_G0q5Oyo"
      },
      "source": [
        "#obtendo o valor real\n",
        "#test_data = pd.read_excel('estoque.xlsx')\n",
        "test_data = web.DataReader(ativo, data_source='yahoo', \n",
        "                    start='2012-01-01', end='2020-11-29') "
      ],
      "execution_count": null,
      "outputs": []
    },
    {
      "cell_type": "code",
      "metadata": {
        "id": "nsfo6wBO5P12",
        "colab": {
          "base_uri": "https://localhost:8080/"
        },
        "outputId": "83f4af9a-3d07-4284-8353-8f35518f6fa7"
      },
      "source": [
        "test_data.shape"
      ],
      "execution_count": null,
      "outputs": [
        {
          "output_type": "execute_result",
          "data": {
            "text/plain": [
              "(2242, 6)"
            ]
          },
          "metadata": {
            "tags": []
          },
          "execution_count": 24
        }
      ]
    },
    {
      "cell_type": "code",
      "metadata": {
        "id": "79mzco6m5_ON",
        "colab": {
          "base_uri": "https://localhost:8080/"
        },
        "outputId": "5f4db822-0746-4480-ff1a-7b72fd3d9a84"
      },
      "source": [
        "test_data.info()"
      ],
      "execution_count": null,
      "outputs": [
        {
          "output_type": "stream",
          "text": [
            "<class 'pandas.core.frame.DataFrame'>\n",
            "DatetimeIndex: 2242 entries, 2012-01-03 to 2020-11-27\n",
            "Data columns (total 6 columns):\n",
            " #   Column     Non-Null Count  Dtype  \n",
            "---  ------     --------------  -----  \n",
            " 0   High       2242 non-null   float64\n",
            " 1   Low        2242 non-null   float64\n",
            " 2   Open       2242 non-null   float64\n",
            " 3   Close      2242 non-null   float64\n",
            " 4   Volume     2242 non-null   int64  \n",
            " 5   Adj Close  2242 non-null   float64\n",
            "dtypes: float64(5), int64(1)\n",
            "memory usage: 122.6 KB\n"
          ],
          "name": "stdout"
        }
      ]
    },
    {
      "cell_type": "code",
      "metadata": {
        "id": "GnuAKZIi5_A4"
      },
      "source": [
        "real_stock_price = test_data.iloc[:, 1:2].values"
      ],
      "execution_count": null,
      "outputs": []
    },
    {
      "cell_type": "code",
      "metadata": {
        "id": "J7vqswHb5-17",
        "colab": {
          "base_uri": "https://localhost:8080/"
        },
        "outputId": "5de745c3-bbfb-4397-d991-194621605d2c"
      },
      "source": [
        "real_stock_price.shape"
      ],
      "execution_count": null,
      "outputs": [
        {
          "output_type": "execute_result",
          "data": {
            "text/plain": [
              "(2242, 1)"
            ]
          },
          "metadata": {
            "tags": []
          },
          "execution_count": 27
        }
      ]
    },
    {
      "cell_type": "code",
      "metadata": {
        "id": "dNyrdXMq5-me"
      },
      "source": [
        "#Obtendo as Previsões\n",
        "#concatenação\n",
        "dataset_total = pd.concat((training_data['Close'],\n",
        "                           test_data['Close']), axis=0)\n",
        "\n",
        "#Preço predito de 60 dias\n",
        "inputs = dataset_total[len(dataset_total) - len(test_data) - 60:].values\n",
        "\n",
        "#reshape (convert em array numpy)\n",
        "inputs = inputs.reshape(-1, 1)\n",
        "\n",
        "#feature scaling\n",
        "inputs = sc.transform(inputs)\n",
        "\n",
        "#criando um set de teste\n",
        "x_test = []\n",
        "for i in range(60, 80):\n",
        "  x_test.append(inputs[i-60:i, 0])\n",
        "\n",
        "x_test = np.array(x_test)\n",
        "\n",
        "#convertendo em 3d (requerido para processo)\n",
        "x_test = np.reshape(x_test,(x_test.shape[0], x_test.shape[1], 1))\n",
        "\n",
        "#obtendo o valor predito \n",
        "predicted_stock_price = model.predict(x_test)\n",
        "predicted_stock_price = sc.inverse_transform(predicted_stock_price)\n"
      ],
      "execution_count": null,
      "outputs": []
    },
    {
      "cell_type": "code",
      "metadata": {
        "id": "ORhmtkDd997Y",
        "colab": {
          "base_uri": "https://localhost:8080/"
        },
        "outputId": "f75b5627-a92f-447c-f59d-3098be7af595"
      },
      "source": [
        "print(\"Predição\", predicted_stock_price[3]), print(\"Valor Real\", real_stock_price[3])"
      ],
      "execution_count": null,
      "outputs": [
        {
          "output_type": "stream",
          "text": [
            "Predição [3389.6287]\n",
            "Valor Real [1273.33996582]\n"
          ],
          "name": "stdout"
        },
        {
          "output_type": "execute_result",
          "data": {
            "text/plain": [
              "(None, None)"
            ]
          },
          "metadata": {
            "tags": []
          },
          "execution_count": 29
        }
      ]
    },
    {
      "cell_type": "markdown",
      "metadata": {
        "id": "dwLrVi6o4WEP"
      },
      "source": [
        "Visualizção dos Resultados"
      ]
    },
    {
      "cell_type": "code",
      "metadata": {
        "id": "7sMpSRiy4f82",
        "colab": {
          "base_uri": "https://localhost:8080/",
          "height": 350
        },
        "outputId": "de574cfe-559b-4aec-8dab-66e9e05f0c02"
      },
      "source": [
        "plt.figure(figsize=(10,5))\n",
        "plt.plot(real_stock_price, color='red', label='Apple Stock Price')\n",
        "plt.plot(predicted_stock_price, color='blue', label='Prediction Google Stock Price')\n",
        "plt.title('Apple Stock Price Prediction')\n",
        "plt.xlabel('Time')\n",
        "plt.ylabel('Apple Stock Price')\n",
        "plt.legend()\n",
        "plt.show()"
      ],
      "execution_count": null,
      "outputs": [
        {
          "output_type": "display_data",
          "data": {
            "image/png": "[encoded data removed]",
            "text/plain": [
              "<Figure size 720x360 with 1 Axes>"
            ]
          },
          "metadata": {
            "tags": [],
            "needs_background": "light"
          }
        }
      ]
    }
  ]
}