{
  "nbformat": 4,
  "nbformat_minor": 0,
  "metadata": {
    "colab": {
      "name": "PredictingStockPricesUsingAnLSTM Model.ipynb",
      "provenance": [],
      "collapsed_sections": [],
      "toc_visible": true,
      "authorship_tag": "ABX9TyOC2CsWqpuSyunhQuNd8+vd",
      "include_colab_link": true
    },
    "kernelspec": {
      "name": "python3",
      "display_name": "Python 3"
    }
  },
  "cells": [
    {
      "cell_type": "markdown",
      "metadata": {
        "id": "view-in-github",
        "colab_type": "text"
      },
      "source": [
        "<a href=\"https://colab.research.google.com/github/prevencao/trading/blob/master/PredictingStockPricesUsingAnLSTM_Model.ipynb\" target=\"_parent\"><img src=\"https://colab.research.google.com/assets/colab-badge.svg\" alt=\"Open In Colab\"/></a>"
      ]
    },
    {
      "cell_type": "markdown",
      "metadata": {
        "id": "vB9zpIxjS9DY",
        "colab_type": "text"
      },
      "source": [
        "https://towardsdatascience.com/lstm-time-series-forecasting-predicting-stock-prices-using-an-lstm-model-6223e9644a2f"
      ]
    },
    {
      "cell_type": "markdown",
      "metadata": {
        "id": "8reWiG-DS-bn",
        "colab_type": "text"
      },
      "source": [
        "#**Previsão de série temporal:**\n",
        "\n",
        "###prevendo preços de ações usando um modelo LSTM"
      ]
    },
    {
      "cell_type": "markdown",
      "metadata": {
        "id": "B7p3eLhJTPmB",
        "colab_type": "text"
      },
      "source": [
        "carregando os dados"
      ]
    },
    {
      "cell_type": "code",
      "metadata": {
        "id": "7Mo_5bm0S937",
        "colab_type": "code",
        "colab": {}
      },
      "source": [
        "import math\n",
        "import matplotlib.pyplot as plt\n",
        "import keras\n",
        "import pandas as pd\n",
        "import numpy as np"
      ],
      "execution_count": null,
      "outputs": []
    },
    {
      "cell_type": "code",
      "metadata": {
        "id": "ArsVpgkxTf6-",
        "colab_type": "code",
        "colab": {}
      },
      "source": [
        "from keras.models import Sequential\n",
        "from keras.layers import Dense\n",
        "from keras.layers import LSTM\n",
        "from keras.layers import Dropout\n",
        "from keras.layers import *\n",
        "from sklearn.preprocessing import MinMaxScaler\n",
        "from sklearn.metrics import mean_squared_error\n",
        "from sklearn.metrics import mean_absolute_error\n",
        "from sklearn.model_selection import train_test_split\n",
        "from keras.callbacks import EarlyStopping"
      ],
      "execution_count": null,
      "outputs": []
    },
    {
      "cell_type": "code",
      "metadata": {
        "id": "NE3xDUYdS3el",
        "colab_type": "code",
        "colab": {
          "base_uri": "https://localhost:8080/",
          "height": 225
        },
        "outputId": "3e4b477a-cfa9-4d1a-a46d-2c908f9f2e7c"
      },
      "source": [
        "#lendo o arquivo csv\n",
        "df = pd.read_csv('TSLA.csv')\n",
        "print('Número de Linhas e colunas: ', df.shape)\n",
        "df.head(5)"
      ],
      "execution_count": 47,
      "outputs": [
        {
          "output_type": "stream",
          "text": [
            "Número de Linhas e colunas:  (1259, 7)\n"
          ],
          "name": "stdout"
        },
        {
          "output_type": "execute_result",
          "data": {
            "text/html": [
              "<div>\n",
              "<style scoped>\n",
              "    .dataframe tbody tr th:only-of-type {\n",
              "        vertical-align: middle;\n",
              "    }\n",
              "\n",
              "    .dataframe tbody tr th {\n",
              "        vertical-align: top;\n",
              "    }\n",
              "\n",
              "    .dataframe thead th {\n",
              "        text-align: right;\n",
              "    }\n",
              "</style>\n",
              "<table border=\"1\" class=\"dataframe\">\n",
              "  <thead>\n",
              "    <tr style=\"text-align: right;\">\n",
              "      <th></th>\n",
              "      <th>Date</th>\n",
              "      <th>Open</th>\n",
              "      <th>High</th>\n",
              "      <th>Low</th>\n",
              "      <th>Close</th>\n",
              "      <th>Adj Close</th>\n",
              "      <th>Volume</th>\n",
              "    </tr>\n",
              "  </thead>\n",
              "  <tbody>\n",
              "    <tr>\n",
              "      <th>0</th>\n",
              "      <td>2015-07-10</td>\n",
              "      <td>262.220001</td>\n",
              "      <td>263.000000</td>\n",
              "      <td>257.820007</td>\n",
              "      <td>259.149994</td>\n",
              "      <td>259.149994</td>\n",
              "      <td>2610900</td>\n",
              "    </tr>\n",
              "    <tr>\n",
              "      <th>1</th>\n",
              "      <td>2015-07-13</td>\n",
              "      <td>262.250000</td>\n",
              "      <td>262.549988</td>\n",
              "      <td>256.049988</td>\n",
              "      <td>262.160004</td>\n",
              "      <td>262.160004</td>\n",
              "      <td>2960300</td>\n",
              "    </tr>\n",
              "    <tr>\n",
              "      <th>2</th>\n",
              "      <td>2015-07-14</td>\n",
              "      <td>262.100006</td>\n",
              "      <td>265.989990</td>\n",
              "      <td>260.510010</td>\n",
              "      <td>265.649994</td>\n",
              "      <td>265.649994</td>\n",
              "      <td>1907600</td>\n",
              "    </tr>\n",
              "    <tr>\n",
              "      <th>3</th>\n",
              "      <td>2015-07-15</td>\n",
              "      <td>266.739990</td>\n",
              "      <td>267.489990</td>\n",
              "      <td>262.079987</td>\n",
              "      <td>263.140015</td>\n",
              "      <td>263.140015</td>\n",
              "      <td>2021600</td>\n",
              "    </tr>\n",
              "    <tr>\n",
              "      <th>4</th>\n",
              "      <td>2015-07-16</td>\n",
              "      <td>264.220001</td>\n",
              "      <td>267.200012</td>\n",
              "      <td>263.160004</td>\n",
              "      <td>266.679993</td>\n",
              "      <td>266.679993</td>\n",
              "      <td>1616000</td>\n",
              "    </tr>\n",
              "  </tbody>\n",
              "</table>\n",
              "</div>"
            ],
            "text/plain": [
              "         Date        Open        High  ...       Close   Adj Close   Volume\n",
              "0  2015-07-10  262.220001  263.000000  ...  259.149994  259.149994  2610900\n",
              "1  2015-07-13  262.250000  262.549988  ...  262.160004  262.160004  2960300\n",
              "2  2015-07-14  262.100006  265.989990  ...  265.649994  265.649994  1907600\n",
              "3  2015-07-15  266.739990  267.489990  ...  263.140015  263.140015  2021600\n",
              "4  2015-07-16  264.220001  267.200012  ...  266.679993  266.679993  1616000\n",
              "\n",
              "[5 rows x 7 columns]"
            ]
          },
          "metadata": {
            "tags": []
          },
          "execution_count": 47
        }
      ]
    },
    {
      "cell_type": "markdown",
      "metadata": {
        "id": "4uBkhmdEWpm9",
        "colab_type": "text"
      },
      "source": [
        "A próxima etapa é dividir os dados em conjuntos de treinamento e teste para evitar overfitting \n",
        "\n",
        "e poder investigar a capacidade de generalização de nosso modelo. Para saber mais sobre overfitting, \n",
        "\n",
        "[leia este artigo](https://towardsdatascience.com/is-your-model-overfitting-or-maybe-underfitting-an-example-using-a-neural-network-in-python-4faf155398d2)"
      ]
    },
    {
      "cell_type": "markdown",
      "metadata": {
        "id": "aUS_UltIW6sH",
        "colab_type": "text"
      },
      "source": [
        "---\n",
        "## O valor alvo a ser previsto será o valor do preço da ação “Fechar”.\n",
        "\n",
        "---\n"
      ]
    },
    {
      "cell_type": "code",
      "metadata": {
        "id": "laHX0xgZWVWF",
        "colab_type": "code",
        "colab": {}
      },
      "source": [
        " training_set = df.iloc[:800, 1:2].values\n",
        " test_set = df.iloc[800:, 1:2].values\n",
        " "
      ],
      "execution_count": 48,
      "outputs": []
    },
    {
      "cell_type": "markdown",
      "metadata": {
        "id": "FLm63gWDXbcP",
        "colab_type": "text"
      },
      "source": [
        "É uma boa ideia normalizar os dados antes do ajuste do modelo. \n",
        "\n",
        "Isso aumentará o desempenho. Você pode ler mais [aqui](https://towardsdatascience.com/everything-you-need-to-know-about-min-max-normalization-in-python-b79592732b79) para o Min-Max Scaler"
      ]
    },
    {
      "cell_type": "markdown",
      "metadata": {
        "id": "32sCy995XrTr",
        "colab_type": "text"
      },
      "source": [
        "Vamos construir os recursos de entrada com intervalo de tempo de 1 dia (intervalo 1):\n",
        "\n"
      ]
    },
    {
      "cell_type": "code",
      "metadata": {
        "id": "QNXk2K_EV98g",
        "colab_type": "code",
        "colab": {}
      },
      "source": [
        "#Dimensionamento de Recursos (Feature Scaling)\n",
        "sc = MinMaxScaler(feature_range=(0, 1))\n",
        "training_set_scaled = sc.fit_transform(training_set)\n",
        "\n",
        "#Criação de uma estrutura de dados com 60 etapas de tempo e 1 saída\n",
        "X_train = []\n",
        "y_train = []\n",
        "for i in range(60, 800):\n",
        "  X_train.append(training_set_scaled[i-60: i, 0])\n",
        "  y_train.append(training_set_scaled[i, 0])\n",
        "X_train, y_train = np.array(X_train), np.array(y_train)\n",
        "\n",
        "X_train = np.reshape(X_train, (X_train.shape[0], \n",
        "                               X_train.shape[1], 1))"
      ],
      "execution_count": 49,
      "outputs": []
    },
    {
      "cell_type": "markdown",
      "metadata": {
        "id": "N1vX_K5hZmzB",
        "colab_type": "text"
      },
      "source": [
        "Agora remodelamos os dados para o seguinte formato (# valores, # etapas de tempo, \n",
        "\n",
        "1 saída dimensional).\n",
        "\n",
        "Agora é hora de construir o modelo. Vamos construir o LSTM com 50 neurônios e 4 camadas \n",
        "\n",
        "ocultas. Por fim, atribuiremos 1 neurônio na camada de saída para prever o preço normalizado das ações. \n",
        "\n",
        "Usaremos a função de perda MSE e o otimizador de descida gradiente estocástico de \n",
        "Adam"
      ]
    },
    {
      "cell_type": "code",
      "metadata": {
        "id": "v2FQwq9AZEWQ",
        "colab_type": "code",
        "colab": {
          "base_uri": "https://localhost:8080/",
          "height": 1000
        },
        "outputId": "d0c751cc-2b78-40ef-d985-b3a6119a2053"
      },
      "source": [
        "model = Sequential()\n",
        "#Adicionando a primeira camada LSTM e alguma regularização de Dropout\n",
        "model.add(LSTM(units = 50, return_sequences = True, \n",
        "               input_shape = (X_train.shape[1], 1)))\n",
        "\n",
        "# Adicionando a segunda camada LSTM e alguma regularização de Dropout\n",
        "model.add(Dropout(0.2))\n",
        "model.add(LSTM(units = 50, return_sequences = True))\n",
        "\n",
        "# Adicionando a terceira camada LSTM e alguma regularização de Dropout\n",
        "model.add(Dropout(0.2))\n",
        "model.add(LSTM(units = 50, return_sequences = True))\n",
        "\n",
        "# Adicionando a quarta camada LSTM e alguma regularização de Dropout\n",
        "model.add(LSTM(units = 50))\n",
        "model.add(Dropout(0.2))\n",
        "\n",
        "# Adicionando a camada de saída\n",
        "model.add(Dense(units = 1))\n",
        "\n",
        "# Compilando o RNN\n",
        "model.compile(optimizer = 'adam', loss = 'mean_squared_error')\n",
        "\n",
        "# Ajustando o RNN ao conjunto de treinamento\n",
        "model.fit(X_train, y_train, epochs = 100, batch_size = 32)"
      ],
      "execution_count": null,
      "outputs": [
        {
          "output_type": "stream",
          "text": [
            "Epoch 1/100\n",
            "24/24 [==============================] - 3s 104ms/step - loss: 0.0668\n",
            "Epoch 2/100\n",
            "24/24 [==============================] - 3s 115ms/step - loss: 0.0179\n",
            "Epoch 3/100\n",
            "24/24 [==============================] - 3s 112ms/step - loss: 0.0126\n",
            "Epoch 4/100\n",
            "24/24 [==============================] - 3s 115ms/step - loss: 0.0117\n",
            "Epoch 5/100\n",
            "24/24 [==============================] - 3s 115ms/step - loss: 0.0135\n",
            "Epoch 6/100\n",
            "24/24 [==============================] - 3s 116ms/step - loss: 0.0126\n",
            "Epoch 7/100\n",
            "24/24 [==============================] - 3s 121ms/step - loss: 0.0115\n",
            "Epoch 8/100\n",
            "24/24 [==============================] - 3s 119ms/step - loss: 0.0110\n",
            "Epoch 9/100\n",
            "24/24 [==============================] - 3s 113ms/step - loss: 0.0109\n",
            "Epoch 10/100\n",
            "24/24 [==============================] - 3s 112ms/step - loss: 0.0096\n",
            "Epoch 11/100\n",
            "24/24 [==============================] - 3s 115ms/step - loss: 0.0100\n",
            "Epoch 12/100\n",
            "24/24 [==============================] - 3s 120ms/step - loss: 0.0093\n",
            "Epoch 13/100\n",
            "24/24 [==============================] - 3s 116ms/step - loss: 0.0103\n",
            "Epoch 14/100\n",
            "24/24 [==============================] - 3s 121ms/step - loss: 0.0093\n",
            "Epoch 15/100\n",
            "24/24 [==============================] - 3s 119ms/step - loss: 0.0080\n",
            "Epoch 16/100\n",
            "24/24 [==============================] - 3s 116ms/step - loss: 0.0073\n",
            "Epoch 17/100\n",
            "24/24 [==============================] - 3s 113ms/step - loss: 0.0075\n",
            "Epoch 18/100\n",
            "24/24 [==============================] - 3s 113ms/step - loss: 0.0093\n",
            "Epoch 19/100\n",
            "24/24 [==============================] - 3s 117ms/step - loss: 0.0068\n",
            "Epoch 20/100\n",
            "24/24 [==============================] - 3s 115ms/step - loss: 0.0070\n",
            "Epoch 21/100\n",
            "24/24 [==============================] - 3s 116ms/step - loss: 0.0071\n",
            "Epoch 22/100\n",
            "24/24 [==============================] - 3s 119ms/step - loss: 0.0069\n",
            "Epoch 23/100\n",
            "24/24 [==============================] - 3s 117ms/step - loss: 0.0070\n",
            "Epoch 24/100\n",
            "24/24 [==============================] - 3s 117ms/step - loss: 0.0065\n",
            "Epoch 25/100\n",
            "24/24 [==============================] - 3s 118ms/step - loss: 0.0069\n",
            "Epoch 26/100\n",
            "24/24 [==============================] - 3s 115ms/step - loss: 0.0059\n",
            "Epoch 27/100\n",
            "24/24 [==============================] - 3s 118ms/step - loss: 0.0058\n",
            "Epoch 28/100\n",
            "24/24 [==============================] - 3s 112ms/step - loss: 0.0062\n",
            "Epoch 29/100\n",
            "24/24 [==============================] - 3s 119ms/step - loss: 0.0054\n",
            "Epoch 30/100\n",
            "24/24 [==============================] - 3s 115ms/step - loss: 0.0054\n",
            "Epoch 31/100\n",
            "24/24 [==============================] - 3s 113ms/step - loss: 0.0065\n",
            "Epoch 32/100\n",
            "24/24 [==============================] - 3s 112ms/step - loss: 0.0060\n",
            "Epoch 33/100\n",
            "24/24 [==============================] - 3s 114ms/step - loss: 0.0059\n",
            "Epoch 34/100\n",
            "24/24 [==============================] - 3s 117ms/step - loss: 0.0051\n",
            "Epoch 35/100\n",
            "24/24 [==============================] - 3s 112ms/step - loss: 0.0055\n",
            "Epoch 36/100\n",
            "24/24 [==============================] - 3s 114ms/step - loss: 0.0050\n",
            "Epoch 37/100\n",
            "24/24 [==============================] - 3s 113ms/step - loss: 0.0050\n",
            "Epoch 38/100\n",
            "24/24 [==============================] - 3s 116ms/step - loss: 0.0068\n",
            "Epoch 39/100\n",
            "24/24 [==============================] - 3s 112ms/step - loss: 0.0050\n",
            "Epoch 40/100\n",
            "24/24 [==============================] - 3s 117ms/step - loss: 0.0043\n",
            "Epoch 41/100\n",
            "24/24 [==============================] - 3s 117ms/step - loss: 0.0044\n",
            "Epoch 42/100\n",
            "24/24 [==============================] - 3s 115ms/step - loss: 0.0045\n",
            "Epoch 43/100\n",
            "24/24 [==============================] - 3s 114ms/step - loss: 0.0040\n",
            "Epoch 44/100\n",
            "24/24 [==============================] - 3s 116ms/step - loss: 0.0046\n",
            "Epoch 45/100\n",
            "24/24 [==============================] - 3s 120ms/step - loss: 0.0050\n",
            "Epoch 46/100\n",
            "24/24 [==============================] - 3s 119ms/step - loss: 0.0045\n",
            "Epoch 47/100\n",
            "24/24 [==============================] - 3s 123ms/step - loss: 0.0046\n",
            "Epoch 48/100\n",
            "24/24 [==============================] - 3s 121ms/step - loss: 0.0041\n",
            "Epoch 49/100\n",
            "24/24 [==============================] - 3s 121ms/step - loss: 0.0040\n",
            "Epoch 50/100\n",
            "24/24 [==============================] - 3s 122ms/step - loss: 0.0042\n",
            "Epoch 51/100\n",
            "24/24 [==============================] - 3s 121ms/step - loss: 0.0045\n",
            "Epoch 52/100\n",
            "24/24 [==============================] - 3s 121ms/step - loss: 0.0043\n",
            "Epoch 53/100\n",
            "24/24 [==============================] - 3s 116ms/step - loss: 0.0041\n",
            "Epoch 54/100\n",
            "24/24 [==============================] - 3s 111ms/step - loss: 0.0040\n",
            "Epoch 55/100\n",
            "24/24 [==============================] - 3s 114ms/step - loss: 0.0040\n",
            "Epoch 56/100\n",
            "24/24 [==============================] - 3s 112ms/step - loss: 0.0037\n",
            "Epoch 57/100\n",
            "24/24 [==============================] - 3s 114ms/step - loss: 0.0036\n",
            "Epoch 58/100\n",
            "24/24 [==============================] - 3s 114ms/step - loss: 0.0045\n",
            "Epoch 59/100\n",
            "24/24 [==============================] - 3s 114ms/step - loss: 0.0038\n",
            "Epoch 60/100\n",
            "24/24 [==============================] - 3s 120ms/step - loss: 0.0037\n",
            "Epoch 61/100\n",
            "24/24 [==============================] - 3s 117ms/step - loss: 0.0039\n",
            "Epoch 62/100\n",
            "24/24 [==============================] - 3s 121ms/step - loss: 0.0035\n",
            "Epoch 63/100\n",
            "24/24 [==============================] - 3s 114ms/step - loss: 0.0036\n",
            "Epoch 64/100\n",
            "24/24 [==============================] - 3s 115ms/step - loss: 0.0038\n",
            "Epoch 65/100\n",
            "24/24 [==============================] - 3s 114ms/step - loss: 0.0035\n",
            "Epoch 66/100\n",
            "24/24 [==============================] - 3s 116ms/step - loss: 0.0039\n",
            "Epoch 67/100\n",
            "24/24 [==============================] - 3s 112ms/step - loss: 0.0039\n",
            "Epoch 68/100\n",
            "24/24 [==============================] - 3s 118ms/step - loss: 0.0038\n",
            "Epoch 69/100\n",
            "24/24 [==============================] - 3s 123ms/step - loss: 0.0039\n",
            "Epoch 70/100\n",
            "24/24 [==============================] - 3s 119ms/step - loss: 0.0037\n",
            "Epoch 71/100\n",
            "24/24 [==============================] - 3s 119ms/step - loss: 0.0044\n",
            "Epoch 72/100\n",
            "24/24 [==============================] - 3s 113ms/step - loss: 0.0039\n",
            "Epoch 73/100\n",
            "24/24 [==============================] - 3s 116ms/step - loss: 0.0034\n",
            "Epoch 74/100\n",
            "24/24 [==============================] - 3s 119ms/step - loss: 0.0035\n",
            "Epoch 75/100\n",
            "24/24 [==============================] - 3s 114ms/step - loss: 0.0034\n",
            "Epoch 76/100\n",
            "24/24 [==============================] - 3s 114ms/step - loss: 0.0036\n",
            "Epoch 77/100\n",
            "24/24 [==============================] - 3s 114ms/step - loss: 0.0034\n",
            "Epoch 78/100\n",
            "24/24 [==============================] - 3s 116ms/step - loss: 0.0034\n",
            "Epoch 79/100\n",
            "24/24 [==============================] - 3s 117ms/step - loss: 0.0035\n",
            "Epoch 80/100\n",
            "24/24 [==============================] - 3s 115ms/step - loss: 0.0039\n",
            "Epoch 81/100\n",
            "24/24 [==============================] - 3s 118ms/step - loss: 0.0036\n",
            "Epoch 82/100\n",
            "24/24 [==============================] - 3s 116ms/step - loss: 0.0030\n",
            "Epoch 83/100\n",
            "24/24 [==============================] - 3s 116ms/step - loss: 0.0031\n",
            "Epoch 84/100\n",
            "24/24 [==============================] - 3s 119ms/step - loss: 0.0033\n",
            "Epoch 85/100\n",
            "24/24 [==============================] - 3s 115ms/step - loss: 0.0029\n",
            "Epoch 86/100\n",
            "24/24 [==============================] - 3s 118ms/step - loss: 0.0033\n",
            "Epoch 87/100\n",
            "24/24 [==============================] - 3s 113ms/step - loss: 0.0029\n",
            "Epoch 88/100\n",
            "24/24 [==============================] - 3s 116ms/step - loss: 0.0031\n",
            "Epoch 89/100\n",
            "24/24 [==============================] - 3s 114ms/step - loss: 0.0033\n",
            "Epoch 90/100\n",
            "24/24 [==============================] - 3s 116ms/step - loss: 0.0035\n",
            "Epoch 91/100\n",
            "24/24 [==============================] - 3s 115ms/step - loss: 0.0033\n",
            "Epoch 92/100\n",
            "24/24 [==============================] - 3s 114ms/step - loss: 0.0030\n",
            "Epoch 93/100\n",
            "24/24 [==============================] - 3s 113ms/step - loss: 0.0030\n",
            "Epoch 94/100\n",
            "24/24 [==============================] - 3s 114ms/step - loss: 0.0029\n",
            "Epoch 95/100\n",
            "24/24 [==============================] - 3s 114ms/step - loss: 0.0031\n",
            "Epoch 96/100\n",
            "24/24 [==============================] - 3s 116ms/step - loss: 0.0029\n",
            "Epoch 97/100\n",
            "24/24 [==============================] - 3s 116ms/step - loss: 0.0031\n",
            "Epoch 98/100\n",
            "24/24 [==============================] - 3s 119ms/step - loss: 0.0027\n",
            "Epoch 99/100\n",
            "24/24 [==============================] - 3s 119ms/step - loss: 0.0031\n",
            "Epoch 100/100\n",
            "24/24 [==============================] - 3s 117ms/step - loss: 0.0026\n"
          ],
          "name": "stdout"
        },
        {
          "output_type": "execute_result",
          "data": {
            "text/plain": [
              "<tensorflow.python.keras.callbacks.History at 0x7f20d6453d68>"
            ]
          },
          "metadata": {
            "tags": []
          },
          "execution_count": 25
        }
      ]
    },
    {
      "cell_type": "markdown",
      "metadata": {
        "id": "etDsL54obNRN",
        "colab_type": "text"
      },
      "source": [
        "Prepare os dados de teste (reformule-os)"
      ]
    },
    {
      "cell_type": "code",
      "metadata": {
        "id": "Po0Y8afWbPVU",
        "colab_type": "code",
        "colab": {
          "base_uri": "https://localhost:8080/",
          "height": 35
        },
        "outputId": "5ff7381d-3921-4c1b-cc59-0b45f472ee01"
      },
      "source": [
        "#Obtendo o preço de ação previsto para 2017\n",
        "dataset_train = df.iloc[:800, 1:2]\n",
        "dataset_test = df.iloc[800:, 1:2]\n",
        "dataset_total = pd.concat((dataset_train, \n",
        "                           dataset_test), axis = 0)\n",
        "\n",
        "inputs = dataset_total[len(dataset_total) - len(dataset_test) - 60:].values\n",
        "inputs = inputs.reshape(-1,1)\n",
        "inputs = sc.transform(inputs)\n",
        "X_test = []\n",
        "\n",
        "for i in range(60, 519):\n",
        "    X_test.append(inputs[i-60:i, 0])\n",
        "X_test = np.array(X_test)\n",
        "X_test = np.reshape(X_test, (X_test.shape[0], X_test.shape[1], 1))\n",
        "\n",
        "print(X_test.shape)"
      ],
      "execution_count": null,
      "outputs": [
        {
          "output_type": "stream",
          "text": [
            "(459, 60, 1)\n"
          ],
          "name": "stdout"
        }
      ]
    },
    {
      "cell_type": "markdown",
      "metadata": {
        "id": "rRztrFMobwaW",
        "colab_type": "text"
      },
      "source": [
        "Faça previsões usando o conjunto de teste"
      ]
    },
    {
      "cell_type": "code",
      "metadata": {
        "id": "MxCBBL0ibPwr",
        "colab_type": "code",
        "colab": {}
      },
      "source": [
        "predicted_stock_price = model.predict(X_test)\n",
        "predicted_stock_price = sc.inverse_transform(predicted_stock_price)"
      ],
      "execution_count": null,
      "outputs": []
    },
    {
      "cell_type": "markdown",
      "metadata": {
        "id": "7rEESNXXcLaz",
        "colab_type": "text"
      },
      "source": [
        "visualisando os dados"
      ]
    },
    {
      "cell_type": "code",
      "metadata": {
        "id": "zRNULghTbPpa",
        "colab_type": "code",
        "colab": {
          "base_uri": "https://localhost:8080/",
          "height": 295
        },
        "outputId": "0c87f96e-1706-4256-d72e-f12422e82aa5"
      },
      "source": [
        "plt.plot(df.loc[800:, 'Date'], dataset_test.values,\n",
        "         color= 'red', label='Real TESLA Stock Price')\n",
        "plt.plot(df.loc[800:, 'Date'], predicted_stock_price, \n",
        "         color='blue', label='Predicted TESLA Stock Price')\n",
        "\n",
        "plt.xticks(np.arange(0, 459, 50))\n",
        "plt.title('TESLA Stock Price Prediction')\n",
        "plt.xlabel('Time')\n",
        "plt.ylabel('Tesla Stock Price')\n",
        "plt.legend()\n",
        "plt.show()"
      ],
      "execution_count": 34,
      "outputs": [
        {
          "output_type": "display_data",
          "data": {
            "image/png": "[encoded data removed]",
            "text/plain": [
              "<Figure size 432x288 with 1 Axes>"
            ]
          },
          "metadata": {
            "tags": [],
            "needs_background": "light"
          }
        }
      ]
    }
  ]
}