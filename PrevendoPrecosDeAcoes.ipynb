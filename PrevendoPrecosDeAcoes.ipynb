{
  "nbformat": 4,
  "nbformat_minor": 0,
  "metadata": {
    "colab": {
      "name": "PrevendoPrecosDeAcoes.ipynb",
      "provenance": [],
      "collapsed_sections": [],
      "include_colab_link": true
    },
    "kernelspec": {
      "name": "python3",
      "display_name": "Python 3"
    }
  },
  "cells": [
    {
      "cell_type": "markdown",
      "metadata": {
        "id": "view-in-github",
        "colab_type": "text"
      },
      "source": [
        "<a href=\"https://colab.research.google.com/github/Jg-Nascimento/trading/blob/master/PrevendoPrecosDeAcoes.ipynb\" target=\"_parent\"><img src=\"https://colab.research.google.com/assets/colab-badge.svg\" alt=\"Open In Colab\"/></a>"
      ]
    },
    {
      "cell_type": "markdown",
      "metadata": {
        "id": "Q9UZZwS42UsW"
      },
      "source": [
        "https://medium.com/@randerson112358/stock-price-prediction-using-python-machine-learning-e82a039ac2bb"
      ]
    },
    {
      "cell_type": "markdown",
      "metadata": {
        "id": "0Qu0K1DJ2lJp"
      },
      "source": [
        "---\n",
        "> # **Previsão do preço das ações**\n",
        "usando Python e aprendizado de máquina\n",
        "---"
      ]
    },
    {
      "cell_type": "code",
      "metadata": {
        "id": "CemdBm0p2TvE"
      },
      "source": [
        "#Import the libraries\n",
        "import math\n",
        "import pandas_datareader as web\n",
        "import numpy as np\n",
        "import pandas as pd\n",
        "from sklearn.preprocessing import MinMaxScaler\n",
        "from keras.models import Sequential\n",
        "from keras.layers import Dense, LSTM\n",
        "import matplotlib.pyplot as plt\n",
        "plt.style.use('fivethirtyeight')"
      ],
      "execution_count": null,
      "outputs": []
    },
    {
      "cell_type": "code",
      "metadata": {
        "id": "bHukRFFg3I96",
        "colab": {
          "base_uri": "https://localhost:8080/",
          "height": 467
        },
        "outputId": "fd622718-484b-4571-ea0c-8c0b049d7fdf"
      },
      "source": [
        "#Get the stock quote \n",
        "ativo = input(\"Ativo para análise: \")\n",
        "df = web.DataReader(ativo, data_source='yahoo', \n",
        "                    start='2012-01-01', end='2020-11-23') \n",
        "#Show the data \n",
        "df"
      ],
      "execution_count": null,
      "outputs": [
        {
          "output_type": "stream",
          "text": [
            "Ativo para análise: tsla\n"
          ],
          "name": "stdout"
        },
        {
          "output_type": "execute_result",
          "data": {
            "text/html": [
              "<div>\n",
              "<style scoped>\n",
              "    .dataframe tbody tr th:only-of-type {\n",
              "        vertical-align: middle;\n",
              "    }\n",
              "\n",
              "    .dataframe tbody tr th {\n",
              "        vertical-align: top;\n",
              "    }\n",
              "\n",
              "    .dataframe thead th {\n",
              "        text-align: right;\n",
              "    }\n",
              "</style>\n",
              "<table border=\"1\" class=\"dataframe\">\n",
              "  <thead>\n",
              "    <tr style=\"text-align: right;\">\n",
              "      <th></th>\n",
              "      <th>High</th>\n",
              "      <th>Low</th>\n",
              "      <th>Open</th>\n",
              "      <th>Close</th>\n",
              "      <th>Volume</th>\n",
              "      <th>Adj Close</th>\n",
              "    </tr>\n",
              "    <tr>\n",
              "      <th>Date</th>\n",
              "      <th></th>\n",
              "      <th></th>\n",
              "      <th></th>\n",
              "      <th></th>\n",
              "      <th></th>\n",
              "      <th></th>\n",
              "    </tr>\n",
              "  </thead>\n",
              "  <tbody>\n",
              "    <tr>\n",
              "      <th>2012-01-03</th>\n",
              "      <td>5.900000</td>\n",
              "      <td>5.530000</td>\n",
              "      <td>5.788000</td>\n",
              "      <td>5.616000</td>\n",
              "      <td>4640500.0</td>\n",
              "      <td>5.616000</td>\n",
              "    </tr>\n",
              "    <tr>\n",
              "      <th>2012-01-04</th>\n",
              "      <td>5.734000</td>\n",
              "      <td>5.500000</td>\n",
              "      <td>5.642000</td>\n",
              "      <td>5.542000</td>\n",
              "      <td>3150500.0</td>\n",
              "      <td>5.542000</td>\n",
              "    </tr>\n",
              "    <tr>\n",
              "      <th>2012-01-05</th>\n",
              "      <td>5.586000</td>\n",
              "      <td>5.370000</td>\n",
              "      <td>5.552000</td>\n",
              "      <td>5.424000</td>\n",
              "      <td>5027500.0</td>\n",
              "      <td>5.424000</td>\n",
              "    </tr>\n",
              "    <tr>\n",
              "      <th>2012-01-06</th>\n",
              "      <td>5.558000</td>\n",
              "      <td>5.282000</td>\n",
              "      <td>5.440000</td>\n",
              "      <td>5.382000</td>\n",
              "      <td>4931500.0</td>\n",
              "      <td>5.382000</td>\n",
              "    </tr>\n",
              "    <tr>\n",
              "      <th>2012-01-09</th>\n",
              "      <td>5.498000</td>\n",
              "      <td>5.224000</td>\n",
              "      <td>5.400000</td>\n",
              "      <td>5.450000</td>\n",
              "      <td>4485000.0</td>\n",
              "      <td>5.450000</td>\n",
              "    </tr>\n",
              "    <tr>\n",
              "      <th>...</th>\n",
              "      <td>...</td>\n",
              "      <td>...</td>\n",
              "      <td>...</td>\n",
              "      <td>...</td>\n",
              "      <td>...</td>\n",
              "      <td>...</td>\n",
              "    </tr>\n",
              "    <tr>\n",
              "      <th>2020-11-16</th>\n",
              "      <td>412.450012</td>\n",
              "      <td>404.089996</td>\n",
              "      <td>408.929993</td>\n",
              "      <td>408.089996</td>\n",
              "      <td>26838600.0</td>\n",
              "      <td>408.089996</td>\n",
              "    </tr>\n",
              "    <tr>\n",
              "      <th>2020-11-17</th>\n",
              "      <td>462.000000</td>\n",
              "      <td>433.010010</td>\n",
              "      <td>460.170013</td>\n",
              "      <td>441.609985</td>\n",
              "      <td>61188300.0</td>\n",
              "      <td>441.609985</td>\n",
              "    </tr>\n",
              "    <tr>\n",
              "      <th>2020-11-18</th>\n",
              "      <td>496.000000</td>\n",
              "      <td>443.500000</td>\n",
              "      <td>448.350006</td>\n",
              "      <td>486.640015</td>\n",
              "      <td>78044000.0</td>\n",
              "      <td>486.640015</td>\n",
              "    </tr>\n",
              "    <tr>\n",
              "      <th>2020-11-19</th>\n",
              "      <td>508.609985</td>\n",
              "      <td>487.570007</td>\n",
              "      <td>492.000000</td>\n",
              "      <td>499.269989</td>\n",
              "      <td>62475300.0</td>\n",
              "      <td>499.269989</td>\n",
              "    </tr>\n",
              "    <tr>\n",
              "      <th>2020-11-20</th>\n",
              "      <td>502.500000</td>\n",
              "      <td>489.059998</td>\n",
              "      <td>497.989990</td>\n",
              "      <td>489.609985</td>\n",
              "      <td>32807300.0</td>\n",
              "      <td>489.609985</td>\n",
              "    </tr>\n",
              "  </tbody>\n",
              "</table>\n",
              "<p>2238 rows × 6 columns</p>\n",
              "</div>"
            ],
            "text/plain": [
              "                  High         Low  ...      Volume   Adj Close\n",
              "Date                                ...                        \n",
              "2012-01-03    5.900000    5.530000  ...   4640500.0    5.616000\n",
              "2012-01-04    5.734000    5.500000  ...   3150500.0    5.542000\n",
              "2012-01-05    5.586000    5.370000  ...   5027500.0    5.424000\n",
              "2012-01-06    5.558000    5.282000  ...   4931500.0    5.382000\n",
              "2012-01-09    5.498000    5.224000  ...   4485000.0    5.450000\n",
              "...                ...         ...  ...         ...         ...\n",
              "2020-11-16  412.450012  404.089996  ...  26838600.0  408.089996\n",
              "2020-11-17  462.000000  433.010010  ...  61188300.0  441.609985\n",
              "2020-11-18  496.000000  443.500000  ...  78044000.0  486.640015\n",
              "2020-11-19  508.609985  487.570007  ...  62475300.0  499.269989\n",
              "2020-11-20  502.500000  489.059998  ...  32807300.0  489.609985\n",
              "\n",
              "[2238 rows x 6 columns]"
            ]
          },
          "metadata": {
            "tags": []
          },
          "execution_count": 2
        }
      ]
    },
    {
      "cell_type": "code",
      "metadata": {
        "id": "fFebddpz3LYT",
        "colab": {
          "base_uri": "https://localhost:8080/"
        },
        "outputId": "bb6acea0-bfa6-43e8-c496-c529aec6988c"
      },
      "source": [
        "df.shape"
      ],
      "execution_count": null,
      "outputs": [
        {
          "output_type": "execute_result",
          "data": {
            "text/plain": [
              "(2238, 6)"
            ]
          },
          "metadata": {
            "tags": []
          },
          "execution_count": 3
        }
      ]
    },
    {
      "cell_type": "code",
      "metadata": {
        "id": "Z8ApvIJe3Lw-",
        "colab": {
          "base_uri": "https://localhost:8080/",
          "height": 355
        },
        "outputId": "121d1f44-0183-4092-bdb5-476f71ef4ed2"
      },
      "source": [
        "#Visualizando o histórico do fechamento do preço\n",
        "plt.figure(figsize=(8,5))\n",
        "plt.title('Close Price History')\n",
        "plt.plot(df['Close'])\n",
        "plt.xlabel('Date',fontsize=18)\n",
        "plt.ylabel('Close Price USD ($)',fontsize=18)\n",
        "plt.show()"
      ],
      "execution_count": null,
      "outputs": [
        {
          "output_type": "display_data",
          "data": {
            "image/png": "[encoded data removed]",
            "text/plain": [
              "<Figure size 576x360 with 1 Axes>"
            ]
          },
          "metadata": {
            "tags": [],
            "needs_background": "light"
          }
        }
      ]
    },
    {
      "cell_type": "code",
      "metadata": {
        "id": "5xHjTaGF3L1D"
      },
      "source": [
        "#Criando um novo df apenas com a coluna 'Fechamento'\n",
        "#Convertendo o df em array numpy\n",
        "data = df.filter(['Close'])\n",
        "\n",
        "#calculando o número de linhas para treinar o modelo \n",
        "dataset = data.values\n",
        "training_data_len = math.ceil( len(dataset) *.8) "
      ],
      "execution_count": null,
      "outputs": []
    },
    {
      "cell_type": "code",
      "metadata": {
        "id": "v8ctW4z43SZq"
      },
      "source": [
        "#Dimensione todos os dados para valores entre 0 e 1\n",
        "scaler = MinMaxScaler(feature_range=(0, 1)) \n",
        "scaled_data = scaler.fit_transform(dataset)"
      ],
      "execution_count": null,
      "outputs": []
    },
    {
      "cell_type": "code",
      "metadata": {
        "id": "h-aVxr603U6K"
      },
      "source": [
        "#Cria o conjunto de dados de treinamento escalonado \n",
        "#Divide os dados em conjuntos de dados x_train e y_train\n",
        "train_data = scaled_data[0:training_data_len  , : ]\n",
        "x_train=[]\n",
        "y_train = []\n",
        "for i in range(60,len(train_data)):\n",
        "    x_train.append(train_data[i-60:i,0])\n",
        "    y_train.append(train_data[i,0])"
      ],
      "execution_count": null,
      "outputs": []
    },
    {
      "cell_type": "code",
      "metadata": {
        "id": "plfCnfN43W0i"
      },
      "source": [
        "#Converte x_train e y_train em array\n",
        "x_train, y_train = np.array(x_train), np.array(y_train)"
      ],
      "execution_count": null,
      "outputs": []
    },
    {
      "cell_type": "code",
      "metadata": {
        "id": "ESRl8jZC3Zky"
      },
      "source": [
        "#Remodele os dados na forma aceita pelo LSTM\n",
        "x_train = np.reshape(x_train, (x_train.shape[0],x_train.shape[1],1))"
      ],
      "execution_count": null,
      "outputs": []
    },
    {
      "cell_type": "code",
      "metadata": {
        "id": "Qh5m3CzN3b5L"
      },
      "source": [
        "#Construa o modelo de rede LSTM\n",
        "model = Sequential()\n",
        "model.add(LSTM(units=50, return_sequences=True,input_shape=(x_train.shape[1],1)))\n",
        "model.add(LSTM(units=50, return_sequences=False))\n",
        "model.add(Dense(units=25))\n",
        "model.add(Dense(units=1))"
      ],
      "execution_count": null,
      "outputs": []
    },
    {
      "cell_type": "code",
      "metadata": {
        "id": "FCGsr3vK3eWb"
      },
      "source": [
        "#Compilando o modelo\n",
        "model.compile(optimizer='adam', loss='mean_squared_error')"
      ],
      "execution_count": null,
      "outputs": []
    },
    {
      "cell_type": "code",
      "metadata": {
        "id": "cXcfW7wA3gcl",
        "colab": {
          "base_uri": "https://localhost:8080/"
        },
        "outputId": "eb0d5072-1f3e-44d6-dcc1-f98356b6a6a0"
      },
      "source": [
        "#Trainando o modelo\n",
        "model.fit(x_train, y_train, batch_size=1, epochs=1)"
      ],
      "execution_count": null,
      "outputs": [
        {
          "output_type": "stream",
          "text": [
            "1731/1731 [==============================] - 36s 21ms/step - loss: 1.0194e-04\n"
          ],
          "name": "stdout"
        },
        {
          "output_type": "execute_result",
          "data": {
            "text/plain": [
              "<tensorflow.python.keras.callbacks.History at 0x7f3bdd7f8550>"
            ]
          },
          "metadata": {
            "tags": []
          },
          "execution_count": 12
        }
      ]
    },
    {
      "cell_type": "markdown",
      "metadata": {
        "id": "VKy_CuNY3lK7"
      },
      "source": [
        "## Testando o Data set"
      ]
    },
    {
      "cell_type": "code",
      "metadata": {
        "id": "DV4Xj5qE3jLb"
      },
      "source": [
        "#Criando o data sets x_test e y_test \n",
        "test_data = scaled_data[training_data_len - 60: , : ]\n",
        "x_test = []\n",
        "\n",
        "'''Obtenha todas as linhas do índice 1603 para o resto e todas as \n",
        "colunas (neste caso é apenas coluna 'Fechar'), \n",
        "então 2003 - 1603 = 400 linhas de dados'''\n",
        "\n",
        "y_test =  dataset[training_data_len : , : ] \n",
        "for i in range(60,len(test_data)):\n",
        "    x_test.append(test_data[i-60:i,0])"
      ],
      "execution_count": null,
      "outputs": []
    },
    {
      "cell_type": "code",
      "metadata": {
        "id": "gwG44D7C3o_R"
      },
      "source": [
        "#Converter x_test para um array numpy \n",
        "x_test = np.array(x_test)"
      ],
      "execution_count": null,
      "outputs": []
    },
    {
      "cell_type": "code",
      "metadata": {
        "id": "4OrDs54N3q_k"
      },
      "source": [
        "#Remodele os dados na forma aceita pelo LSTM\n",
        "x_test = np.reshape(x_test, (x_test.shape[0],x_test.shape[1],1))"
      ],
      "execution_count": null,
      "outputs": []
    },
    {
      "cell_type": "code",
      "metadata": {
        "id": "bjNdG8Fz3s9e"
      },
      "source": [
        "#Obtendo os modelos de valores de preço previstos\n",
        "predictions = model.predict(x_test) \n",
        "\n",
        "#Desfazer escala\n",
        "predictions = scaler.inverse_transform(predictions)"
      ],
      "execution_count": null,
      "outputs": []
    },
    {
      "cell_type": "code",
      "metadata": {
        "id": "0K0gkvPa3uwQ",
        "colab": {
          "base_uri": "https://localhost:8080/"
        },
        "outputId": "6920577c-4e98-451e-bccb-582f9495e58d"
      },
      "source": [
        "#calcular/Obter o valor do RMSE\n",
        "rmse=np.sqrt(np.mean(((predictions- y_test)**2)))\n",
        "rmse"
      ],
      "execution_count": null,
      "outputs": [
        {
          "output_type": "execute_result",
          "data": {
            "text/plain": [
              "50.48040722453006"
            ]
          },
          "metadata": {
            "tags": []
          },
          "execution_count": 17
        }
      ]
    },
    {
      "cell_type": "code",
      "metadata": {
        "id": "k4gUi1NT3wiy",
        "colab": {
          "base_uri": "https://localhost:8080/",
          "height": 586
        },
        "outputId": "70833098-1fb4-45b2-c112-56daaacdec0b"
      },
      "source": [
        "#plotar/Criar os dados para o gráfico\n",
        "train = data[:training_data_len]\n",
        "valid = data[training_data_len:]\n",
        "\n",
        "#Visualize os detalhes\n",
        "valid['Predictions'] = predictions\n",
        "plt.figure(figsize=(10,7))\n",
        "plt.title('Model')\n",
        "plt.xlabel('Date', fontsize=18)\n",
        "plt.ylabel('Close Price BTC-USD ($)', fontsize=18)\n",
        "plt.plot(train['Close'])\n",
        "plt.plot(valid[['Close', 'Predictions']])\n",
        "plt.legend(['Train', 'Val', 'Predictions'], loc='lower right')\n",
        "#plt.style.use('dark_background')\n",
        "plt.show()"
      ],
      "execution_count": null,
      "outputs": [
        {
          "output_type": "stream",
          "text": [
            "/usr/local/lib/python3.6/dist-packages/ipykernel_launcher.py:6: SettingWithCopyWarning: \n",
            "A value is trying to be set on a copy of a slice from a DataFrame.\n",
            "Try using .loc[row_indexer,col_indexer] = value instead\n",
            "\n",
            "See the caveats in the documentation: https://pandas.pydata.org/pandas-docs/stable/user_guide/indexing.html#returning-a-view-versus-a-copy\n",
            "  \n"
          ],
          "name": "stderr"
        },
        {
          "output_type": "display_data",
          "data": {
            "image/png": "[encoded data removed]",
            "text/plain": [
              "<Figure size 720x504 with 1 Axes>"
            ]
          },
          "metadata": {
            "tags": [],
            "needs_background": "light"
          }
        }
      ]
    },
    {
      "cell_type": "code",
      "metadata": {
        "id": "LN9wqEJ33yiY",
        "colab": {
          "base_uri": "https://localhost:8080/",
          "height": 450
        },
        "outputId": "5ad14a53-93fb-4927-dca0-b9eaff739b8e"
      },
      "source": [
        "#Mostre os preços válidos e previstos\n",
        "valid"
      ],
      "execution_count": null,
      "outputs": [
        {
          "output_type": "execute_result",
          "data": {
            "text/html": [
              "<div>\n",
              "<style scoped>\n",
              "    .dataframe tbody tr th:only-of-type {\n",
              "        vertical-align: middle;\n",
              "    }\n",
              "\n",
              "    .dataframe tbody tr th {\n",
              "        vertical-align: top;\n",
              "    }\n",
              "\n",
              "    .dataframe thead th {\n",
              "        text-align: right;\n",
              "    }\n",
              "</style>\n",
              "<table border=\"1\" class=\"dataframe\">\n",
              "  <thead>\n",
              "    <tr style=\"text-align: right;\">\n",
              "      <th></th>\n",
              "      <th>Close</th>\n",
              "      <th>Predictions</th>\n",
              "    </tr>\n",
              "    <tr>\n",
              "      <th>Date</th>\n",
              "      <th></th>\n",
              "      <th></th>\n",
              "    </tr>\n",
              "  </thead>\n",
              "  <tbody>\n",
              "    <tr>\n",
              "      <th>2019-02-15</th>\n",
              "      <td>61.576000</td>\n",
              "      <td>58.118340</td>\n",
              "    </tr>\n",
              "    <tr>\n",
              "      <th>2019-02-19</th>\n",
              "      <td>61.127998</td>\n",
              "      <td>57.979557</td>\n",
              "    </tr>\n",
              "    <tr>\n",
              "      <th>2019-02-20</th>\n",
              "      <td>60.512001</td>\n",
              "      <td>57.831688</td>\n",
              "    </tr>\n",
              "    <tr>\n",
              "      <th>2019-02-21</th>\n",
              "      <td>58.245998</td>\n",
              "      <td>57.639099</td>\n",
              "    </tr>\n",
              "    <tr>\n",
              "      <th>2019-02-22</th>\n",
              "      <td>58.942001</td>\n",
              "      <td>57.237278</td>\n",
              "    </tr>\n",
              "    <tr>\n",
              "      <th>...</th>\n",
              "      <td>...</td>\n",
              "      <td>...</td>\n",
              "    </tr>\n",
              "    <tr>\n",
              "      <th>2020-11-16</th>\n",
              "      <td>408.089996</td>\n",
              "      <td>315.038055</td>\n",
              "    </tr>\n",
              "    <tr>\n",
              "      <th>2020-11-17</th>\n",
              "      <td>441.609985</td>\n",
              "      <td>313.795319</td>\n",
              "    </tr>\n",
              "    <tr>\n",
              "      <th>2020-11-18</th>\n",
              "      <td>486.640015</td>\n",
              "      <td>315.213715</td>\n",
              "    </tr>\n",
              "    <tr>\n",
              "      <th>2020-11-19</th>\n",
              "      <td>499.269989</td>\n",
              "      <td>321.056488</td>\n",
              "    </tr>\n",
              "    <tr>\n",
              "      <th>2020-11-20</th>\n",
              "      <td>489.609985</td>\n",
              "      <td>329.129181</td>\n",
              "    </tr>\n",
              "  </tbody>\n",
              "</table>\n",
              "<p>447 rows × 2 columns</p>\n",
              "</div>"
            ],
            "text/plain": [
              "                 Close  Predictions\n",
              "Date                               \n",
              "2019-02-15   61.576000    58.118340\n",
              "2019-02-19   61.127998    57.979557\n",
              "2019-02-20   60.512001    57.831688\n",
              "2019-02-21   58.245998    57.639099\n",
              "2019-02-22   58.942001    57.237278\n",
              "...                ...          ...\n",
              "2020-11-16  408.089996   315.038055\n",
              "2020-11-17  441.609985   313.795319\n",
              "2020-11-18  486.640015   315.213715\n",
              "2020-11-19  499.269989   321.056488\n",
              "2020-11-20  489.609985   329.129181\n",
              "\n",
              "[447 rows x 2 columns]"
            ]
          },
          "metadata": {
            "tags": []
          },
          "execution_count": 19
        }
      ]
    },
    {
      "cell_type": "markdown",
      "metadata": {
        "id": "oyNe3EYuOcXP"
      },
      "source": [
        "## Inserindo os dados no modelo e obter o preço previsto."
      ]
    },
    {
      "cell_type": "code",
      "metadata": {
        "id": "jvTPVx2M31H6",
        "colab": {
          "base_uri": "https://localhost:8080/"
        },
        "outputId": "5d264d1e-68a9-47a6-ad16-32b8aad4fe10"
      },
      "source": [
        "#Cria um novo df\n",
        "apple_quote = web.DataReader('AAPL', data_source='yahoo',\n",
        "                             start='2012-01-01', end='2020-11-21')\n",
        "#preço de fechamento de 60 dias\n",
        "new_df = apple_quote.filter(['Close'])\n",
        "\n",
        "#Dimensione os dados para valores entre 0 e 1\n",
        "last_60_days = new_df[-60:].values\n",
        "\n",
        "#cria uma lista vazia\n",
        "last_60_days_scaled = scaler.transform(last_60_days)\n",
        "\n",
        "#Anexar os últimos 60 dias\n",
        "X_test = []\n",
        "\n",
        "#Converta o conjunto de dados X_test em uma matriz numérica\n",
        "X_test.append(last_60_days_scaled)\n",
        "\n",
        "#Remodelar os dados\n",
        "X_test = np.array(X_test)\n",
        "\n",
        "#Obtenha o preço escalonado previsto\n",
        "X_test = np.reshape(X_test, (X_test.shape[0], X_test.shape[1], 1))\n",
        "\n",
        "#desfazer o dimensionamento\n",
        "pred_price = model.predict(X_test) \n",
        "pred_price = scaler.inverse_transform(pred_price)\n",
        "\n",
        "print('Predição => ', pred_price)"
      ],
      "execution_count": null,
      "outputs": [
        {
          "output_type": "stream",
          "text": [
            "Predição =>  [[106.42962]]\n"
          ],
          "name": "stdout"
        }
      ]
    },
    {
      "cell_type": "markdown",
      "metadata": {
        "id": "qmKOSYaTOIog"
      },
      "source": [
        "# Agora vamos ver qual foi o preço real para aquele dia."
      ]
    },
    {
      "cell_type": "code",
      "metadata": {
        "id": "YnHqfrGv33X1",
        "colab": {
          "base_uri": "https://localhost:8080/"
        },
        "outputId": "1c531aff-a6df-47f9-b2f1-a77c0e14b18d"
      },
      "source": [
        "apple_quote2 = web.DataReader(ativo, data_source='yahoo', \n",
        "                              start='2019-12-18', end='2020-11-21')\n",
        "print(apple_quote2['Close'])"
      ],
      "execution_count": null,
      "outputs": [
        {
          "output_type": "stream",
          "text": [
            "Date\n",
            "2019-12-18     78.629997\n",
            "2019-12-19     80.807999\n",
            "2019-12-20     81.117996\n",
            "2019-12-23     83.844002\n",
            "2019-12-24     85.050003\n",
            "                 ...    \n",
            "2020-11-16    408.089996\n",
            "2020-11-17    441.609985\n",
            "2020-11-18    486.640015\n",
            "2020-11-19    499.269989\n",
            "2020-11-20    489.609985\n",
            "Name: Close, Length: 235, dtype: float64\n"
          ],
          "name": "stdout"
        }
      ]
    },
    {
      "cell_type": "code",
      "metadata": {
        "colab": {
          "base_uri": "https://localhost:8080/"
        },
        "id": "-2M_2fGo0k_7",
        "outputId": "1a7c4430-f8c9-45e3-907a-6e2e543edd76"
      },
      "source": [
        "apple_quote['Close'].tail()"
      ],
      "execution_count": null,
      "outputs": [
        {
          "output_type": "execute_result",
          "data": {
            "text/plain": [
              "Date\n",
              "2020-11-16    120.300003\n",
              "2020-11-17    119.389999\n",
              "2020-11-18    118.029999\n",
              "2020-11-19    118.639999\n",
              "2020-11-20    117.339996\n",
              "Name: Close, dtype: float64"
            ]
          },
          "metadata": {
            "tags": []
          },
          "execution_count": 22
        }
      ]
    }
  ]
}