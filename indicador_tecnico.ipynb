{
  "nbformat": 4,
  "nbformat_minor": 0,
  "metadata": {
    "colab": {
      "name": "indicador_tecnico.ipynb",
      "provenance": [],
      "collapsed_sections": [],
      "authorship_tag": "ABX9TyOWOHGVihfVzDAXwx2W18cU",
      "include_colab_link": true
    },
    "kernelspec": {
      "name": "python3",
      "display_name": "Python 3"
    }
  },
  "cells": [
    {
      "cell_type": "markdown",
      "metadata": {
        "id": "view-in-github",
        "colab_type": "text"
      },
      "source": [
        "<a href=\"https://colab.research.google.com/github/prevencao/trading/blob/master/indicador_tecnico.ipynb\" target=\"_parent\"><img src=\"https://colab.research.google.com/assets/colab-badge.svg\" alt=\"Open In Colab\"/></a>"
      ]
    },
    {
      "cell_type": "markdown",
      "metadata": {
        "id": "_elFpoSUfTXD",
        "colab_type": "text"
      },
      "source": [
        "https://www.thepythoncode.com/article/introduction-to-finance-and-technical-indicators-with-python"
      ]
    },
    {
      "cell_type": "markdown",
      "metadata": {
        "id": "UYbWvbrkfYZ1",
        "colab_type": "text"
      },
      "source": [
        "---\n",
        "# Introdução a finanças e indicadores técnicos com Python\n",
        "---"
      ]
    },
    {
      "cell_type": "code",
      "metadata": {
        "id": "z6_Bz1UxgRXj",
        "colab_type": "code",
        "colab": {}
      },
      "source": [
        "#!pip install pandas-datareader yfinance mpl-finance stockstats\n",
        "!pip install stockstats"
      ],
      "execution_count": null,
      "outputs": []
    },
    {
      "cell_type": "code",
      "metadata": {
        "id": "Zfd7VGwtWX6B",
        "colab_type": "code",
        "colab": {}
      },
      "source": [
        "import pandas as pd\n",
        "import numpy as np\n",
        "import plotly.offline as py\n",
        "import plotly.graph_objs as go\n",
        "import plotly.figure_factory as ff\n",
        "import matplotlib.pyplot as plt\n",
        "import yfinance as yf\n",
        "import pandas_datareader as pdr"
      ],
      "execution_count": null,
      "outputs": []
    },
    {
      "cell_type": "code",
      "metadata": {
        "id": "GK7BIxErfSMl",
        "colab_type": "code",
        "colab": {}
      },
      "source": [
        "#importando os preços das ações Apple\n",
        "df_aapl = pdr.get_data_yahoo('AAPL', start='2019-01-01', \n",
        "                             end='2020-07-30')\n"
      ],
      "execution_count": null,
      "outputs": []
    },
    {
      "cell_type": "code",
      "metadata": {
        "id": "yuhtX--Il6h_",
        "colab_type": "code",
        "colab": {}
      },
      "source": [
        "df_aapl.head()"
      ],
      "execution_count": null,
      "outputs": []
    },
    {
      "cell_type": "code",
      "metadata": {
        "id": "jNqmgyvRhVQe",
        "colab_type": "code",
        "colab": {}
      },
      "source": [
        "#importando os preços das ações SPY\n",
        "df_Spy = pdr.get_data_yahoo('SPY', start='2019-01-01', \n",
        "                            end='2019-09-30')"
      ],
      "execution_count": null,
      "outputs": []
    },
    {
      "cell_type": "code",
      "metadata": {
        "id": "hQnND_x2htlw",
        "colab_type": "code",
        "colab": {}
      },
      "source": [
        "df_Spy.head()"
      ],
      "execution_count": null,
      "outputs": []
    },
    {
      "cell_type": "markdown",
      "metadata": {
        "id": "ZKlnWpB8mEIs",
        "colab_type": "text"
      },
      "source": [
        "Uma vela no mercado financeiro é apresentada sob o formato OHLC, que significa \"Open-High-Low-Close\":\n",
        "\n",
        "    Aberto: é o preço de uma ação quando uma resolução de tempo começou (1m, 30m, por hora, diariamente, etc)\n",
        "    Alto: é o preço mais alto alcançado do início ao fim da vela.\n",
        "    Baixo: é o preço mais baixo atingido do início ao fim da vela.\n",
        "    Fechar: é o preço de uma ação quando uma resolução de tempo termina.\n",
        "\n",
        "Distinguimos dois tipos de operações de negociação ao negociar nos mercados financeiros de ações: Long (Compra) e Short (Venda).\n"
      ]
    },
    {
      "cell_type": "markdown",
      "metadata": {
        "id": "K4sJmiRcmIIb",
        "colab_type": "text"
      },
      "source": [
        "# Traçando preços de ações"
      ]
    },
    {
      "cell_type": "code",
      "metadata": {
        "id": "HbkiyyQMl7XZ",
        "colab_type": "code",
        "colab": {}
      },
      "source": [
        "df_aapl[['Open', 'High', 'Low', 'Close']].plot()\n",
        "plt.show()"
      ],
      "execution_count": null,
      "outputs": []
    },
    {
      "cell_type": "code",
      "metadata": {
        "id": "5roqK_aSmfbI",
        "colab_type": "code",
        "colab": {}
      },
      "source": [
        "fig = plt.figure(figsize=(10, 10))\n",
        "ax = plt.subplot()\n",
        "\n",
        "plot_data = []\n",
        "for i in range (150, len(df_aapl)):\n",
        "  row = [\n",
        "         i,\n",
        "         df_aapl.Open.iloc[i],\n",
        "         df_aapl.High.iloc[i],\n",
        "         df_aapl.Low.iloc[i],\n",
        "         df_aapl.Close.iloc[i],\n",
        "  ]\n",
        "  plot_data.append(row)\n",
        "candlestick_ohlc(ax, plot_data)\n",
        "\n",
        "plt.show()"
      ],
      "execution_count": null,
      "outputs": []
    },
    {
      "cell_type": "markdown",
      "metadata": {
        "id": "OQDAucOhnlZ7",
        "colab_type": "text"
      },
      "source": [
        "## Indicadores Técnicos Financeiros"
      ]
    },
    {
      "cell_type": "markdown",
      "metadata": {
        "id": "bAILMEOAnqj7",
        "colab_type": "text"
      },
      "source": [
        "FinaIn finance, e uma vez que estamos tratando de dados numéricos, contando com vários indicadores teremos uma melhor visualização dos movimentos dos preços das ações, além de detectar tendências que são muito importantes caso pretendamos fazer negócios / investimentos de longo prazo em uma determinada ação .\n",
        "\n",
        "Da biblioteca [stockstats](https://github.com/jealous/stockstats) importaremos StockDataFrame, que é uma classe que recebe como atributo um DataFrame pandas ordenado por tempo e inclui as colunas Abrir-Fechar-Alto-Baixo nesta ordem Indicadores Técnicos"
      ]
    },
    {
      "cell_type": "code",
      "metadata": {
        "id": "1yVtPyeTneel",
        "colab_type": "code",
        "colab": {}
      },
      "source": [
        "from stockstats import StockdataFrame\n",
        "stocks = StockDataFrame.retype(df_aapl[['Open', 'Close', \n",
        "                                        'High', 'Low', \n",
        "                                        'Volume']])"
      ],
      "execution_count": null,
      "outputs": []
    },
    {
      "cell_type": "markdown",
      "metadata": {
        "id": "uRX27Ua4pTen",
        "colab_type": "text"
      },
      "source": [
        "# Média Móvel Simples (SMA)"
      ]
    },
    {
      "cell_type": "markdown",
      "metadata": {
        "id": "aY2qMQkppXNw",
        "colab_type": "text"
      },
      "source": [
        "[MédIa Simples](https://www.investopedia.com/terms/s/sma.asp) Média é um indicador que suaviza o gráfico dos preços das ações, computando a média dos preços ao longo de um período de tempo. Isso nos permitirá visualizar melhor as direções das tendências (para cima ou para baixo).\n",
        "\n",
        "A fórmula de SMA é mostrada na figura a seguir"
      ]
    },
    {
      "cell_type": "markdown",
      "metadata": {
        "id": "is-Pl_UT_IDK",
        "colab_type": "text"
      },
      "source": [
        "![sma.png](data:image/png;base64,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)"
      ]
    },
    {
      "cell_type": "markdown",
      "metadata": {
        "id": "zXntNT0g_N7-",
        "colab_type": "text"
      },
      "source": [
        "PLotando SMA"
      ]
    },
    {
      "cell_type": "code",
      "metadata": {
        "id": "I820Stlv-xxV",
        "colab_type": "code",
        "colab": {}
      },
      "source": [
        "plt.plot(stocks['close_10_sma'], color='b', label='SMA')\n",
        "plt.plot(df_aapl.Close, color='g', label='Close Prices')\n",
        "plt.legend(loc='lower right')\n",
        "plt.show()"
      ],
      "execution_count": null,
      "outputs": []
    },
    {
      "cell_type": "markdown",
      "metadata": {
        "id": "B7k0sunz_tNV",
        "colab_type": "text"
      },
      "source": [
        "Média Móvel Exponencial (EMA)"
      ]
    },
    {
      "cell_type": "markdown",
      "metadata": {
        "id": "ojTtRviQAD12",
        "colab_type": "text"
      },
      "source": [
        "## Fórmula da EMA\n",
        "![EMA.png](data:image/png;base64,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)"
      ]
    },
    {
      "cell_type": "code",
      "metadata": {
        "id": "--jTm6F__mOJ",
        "colab_type": "code",
        "colab": {}
      },
      "source": [
        "plt.plot(stocks[\"close_10_sma\"], color=\"b\", label=\"SMA\") # plotando SMA SMA\n",
        "plt.plot(stocks[\"close_10_ema\"], color=\"k\", label=\"EMA\")\n",
        "plt.plot(df_aapl.Close, color=\"g\", label=\"Close prices\") # plotando preço de fechamento\n",
        "plt.legend(loc=\"lower right\")\n",
        "plt.show()"
      ],
      "execution_count": null,
      "outputs": []
    },
    {
      "cell_type": "markdown",
      "metadata": {
        "id": "ZZMTAakBAgGW",
        "colab_type": "text"
      },
      "source": [
        "#Média Móvel Convergência/Divergência (MACD)\n"
      ]
    },
    {
      "cell_type": "markdown",
      "metadata": {
        "id": "tiD3GUbzAjeG",
        "colab_type": "text"
      },
      "source": [
        "[MACD](https://en.wikipedia.org/wiki/MACD) é um indicador de momento de seguição de tendência. Este Indicador pode mostrar mudanças na velocidade do movimento dos preços e os comerciantes o usam para determinar a direção de uma tendência. \n",
        "\n",
        "O MACD é calculado subtraindo a Média Móvel Exponencial (EMA) de 26 períodos da EMA de 12 períodos. Um EMA de nove dias do MACD é chamado de \"Linha de Sinal\", que é então plotado com o MACD. \n",
        "\n",
        "Quando o MACD cruza abaixo da Linha de Sinal, é um indicador para começar a fazer operações curtas (Sell). E quando ele cruza acima dele, é um indicador para começar a fazer operações longas (Compre)"
      ]
    },
    {
      "cell_type": "code",
      "metadata": {
        "id": "qBhADOksAb7m",
        "colab_type": "code",
        "colab": {}
      },
      "source": [
        "plt.plot(stocks[\"macd\"], color=\"b\", label=\"MACD\")\n",
        "plt.plot(stocks[\"macds\"], color=\"g\", label=\"Signal Line\")\n",
        "plt.legend(loc=\"lower right\")\n",
        "plt.show()"
      ],
      "execution_count": null,
      "outputs": []
    },
    {
      "cell_type": "markdown",
      "metadata": {
        "id": "g5UiHvtgBCBu",
        "colab_type": "text"
      },
      "source": [
        "## `Conclusão`\n",
        "\n",
        "Neste tutorial, nós:\n",
        "\n",
        "Aprendemos a importar dados financeiros usando bibliotecas \n",
        "\n",
        "[Pandas DataReader](https://pandas-datareader.readthedocs.io/en/latest/) e [yfinance](https://github.com/ranaroussi/yfinance/). \n",
        "Entendia notações e definições financeiras. \n",
        "\n",
        "Familiarizei-me com a notação ohlc.\n",
        "Aprendi a traçar gráficos de castiçais usando \n",
        "\n",
        "[mpl_finance](https://github.com/matplotlib/mplfinance) biblioteca. \n",
        "Aprendeu a importância dos indicadores financeiros e implementou \n",
        "\n",
        "alguns deles utilizando a biblioteca [stockstats](https://github.com/jealous/stockstats)."
      ]
    }
  ]
}